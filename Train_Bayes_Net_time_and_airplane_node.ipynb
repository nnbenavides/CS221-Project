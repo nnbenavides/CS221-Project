{
 "cells": [
  {
   "cell_type": "code",
   "execution_count": 37,
   "metadata": {
    "collapsed": true,
    "deletable": true,
    "editable": true
   },
   "outputs": [],
   "source": [
    "import datalab.storage as storage\n",
    "import pandas as pd\n",
    "from io import BytesIO\n",
    "import numpy as np\n",
    "import random"
   ]
  },
  {
   "cell_type": "code",
   "execution_count": 38,
   "metadata": {
    "collapsed": true,
    "deletable": true,
    "editable": true
   },
   "outputs": [],
   "source": [
    "bucket = storage.Bucket('cs221-flight-data')\n",
    "flights_data = bucket.item('model-train.csv')\n",
    "uri = flights_data.uri\n",
    "%gcs read --object $uri --variable data\n",
    "bayes_data = pd.read_csv(BytesIO(data))"
   ]
  },
  {
   "cell_type": "code",
   "execution_count": 39,
   "metadata": {
    "collapsed": true,
    "deletable": true,
    "editable": true
   },
   "outputs": [],
   "source": [
    "# CONSTANTS\n",
    "NUM_TIME_DELAY_BUCKETS = 5\n",
    "NUM_AIRPLANE_DELAY_BUCKETS = 5\n",
    "la_place_constant = 1\n",
    "\n",
    "# map the variables to their parents\n",
    "variables_to_parents = {}\n",
    "variables_to_parents['MONTH'] = []\n",
    "variables_to_parents['DAY_OF_WEEK'] = []\n",
    "variables_to_parents['SCHEDULED_DEPARTURE'] = []\n",
    "variables_to_parents['time_delay'] = ['MONTH', 'DAY_OF_WEEK', 'SCHEDULED_DEPARTURE']\n",
    "variables_to_parents['AIRLINE'] = []\n",
    "variables_to_parents['DESTINATION_AIRPORT'] = []\n",
    "variables_to_parents['YEAR'] = [] # year is the year of the airplane make NOT the year that the flight departs\n",
    "variables_to_parents['MODEL'] = []\n",
    "variables_to_parents['airplane_delay'] = ['YEAR', 'MODEL']\n",
    "variables_to_parents['ARRIVAL_DELAY'] = ['time_delay', 'AIRLINE', 'DESTINATION_AIRPORT', 'airplane_delay']\n",
    "# variables_to_parents['ARRIVAL_DELAY'] = ['airplane_delay', 'AIRLINE', 'DESTINATION_AIRPORT']\n"
   ]
  },
  {
   "cell_type": "code",
   "execution_count": 40,
   "metadata": {
    "collapsed": false,
    "deletable": true,
    "editable": true
   },
   "outputs": [],
   "source": [
    "# initialize the counts\n",
    "variable_to_counts = {}\n",
    "# these variables don't have parent variables\n",
    "for var in variables_to_parents:\n",
    "    if len(variables_to_parents[var]) == 0:\n",
    "        variable_to_counts[var] = {key:la_place_constant for key in np.unique(bayes_data[var].astype(str).unique())}\n",
    "\n",
    "variable_to_counts['airplane_delay'] = {(airplane_delay, year, model):random.randint(1,3)\n",
    "                                       for airplane_delay in range(NUM_AIRPLANE_DELAY_BUCKETS)\n",
    "                                       for year in bayes_data['YEAR'].astype(str).unique()\n",
    "                                       for model in bayes_data['MODEL'].astype(str).unique()}"
   ]
  },
  {
   "cell_type": "code",
   "execution_count": 41,
   "metadata": {
    "collapsed": false,
    "deletable": true,
    "editable": true
   },
   "outputs": [],
   "source": [
    "# add the variable with parent variables\n",
    "# make sure that the order of the tuple is the same order as the parent list\n",
    "variable_to_counts['time_delay'] = {(time_delay, month, day_of_week, sch_departure):random.randint(1,3)\n",
    "                                    for time_delay in range(NUM_TIME_DELAY_BUCKETS)\n",
    "                                    for month in bayes_data['MONTH'].astype(str).unique()\n",
    "                                    for day_of_week in bayes_data['DAY_OF_WEEK'].astype(str).unique()\n",
    "                                    for sch_departure in bayes_data['SCHEDULED_DEPARTURE'].astype(str).unique()}"
   ]
  },
  {
   "cell_type": "code",
   "execution_count": 42,
   "metadata": {
    "collapsed": false,
    "deletable": true,
    "editable": true
   },
   "outputs": [],
   "source": [
    "# add the variable with parent variables\n",
    "# make sure that the order of the tuple is the same order as the parent list\n",
    "variable_to_counts['ARRIVAL_DELAY'] = {(arrival_delay, time_delay, airline, dest_airport, airplane_delay):la_place_constant\n",
    "                                      for arrival_delay in bayes_data['ARRIVAL_DELAY'].astype(str).unique()\n",
    "                                      for time_delay in range(NUM_TIME_DELAY_BUCKETS)\n",
    "                                      for airline in bayes_data['AIRLINE'].astype(str).unique()\n",
    "                                      for dest_airport in bayes_data['DESTINATION_AIRPORT'].astype(str).unique()\n",
    "                                      for airplane_delay in range(NUM_AIRPLANE_DELAY_BUCKETS)}"
   ]
  },
  {
   "cell_type": "code",
   "execution_count": 43,
   "metadata": {
    "collapsed": false,
    "deletable": true,
    "editable": true
   },
   "outputs": [],
   "source": [
    "# count to get the probabilities for the quantities that we DO know\n",
    "for index, row in bayes_data.iterrows():\n",
    "    for (variable, parent_list) in variables_to_parents.items():\n",
    "        if variable != \"airplane_delay\" and variable != 'time_delay':\n",
    "          # need to make tuple of value with their parent(conditional) values\n",
    "          value = str(row[variable])\n",
    "          if parent_list != []:\n",
    "            value = [value]\n",
    "            for parent in parent_list:\n",
    "              if parent != \"airplane_delay\" and parent != 'time_delay':\n",
    "                value.append(str(row[parent]))\n",
    "              elif parent == \"airplane_delay\":\n",
    "                value.append(random.randint(0, NUM_AIRPLANE_DELAY_BUCKETS-1))\n",
    "              elif parent == \"time_delay\":\n",
    "                value.append(random.randint(0, NUM_TIME_DELAY_BUCKETS-1))\n",
    "            value = tuple(value)\n",
    "          # increase the count\n",
    "          variable_to_counts[variable][value] += 1"
   ]
  },
  {
   "cell_type": "code",
   "execution_count": 44,
   "metadata": {
    "collapsed": false,
    "deletable": true,
    "editable": true
   },
   "outputs": [],
   "source": [
    "# once the counts are initialized, need to normalize the probabilities \n",
    "def normalize(variables_to_parents, variable_to_counts):\n",
    "  variable_to_probability = {}\n",
    "  for variable in variable_to_counts:\n",
    "      variable_to_probability[variable] = {}\n",
    "      if len(variables_to_parents[variable]) > 0:\n",
    "          # then we need to do some fun tuple stuff because the conditionals are what is constant\n",
    "          conditional_to_count = {}\n",
    "          for value in variable_to_counts[variable]:\n",
    "              conditional = value[1:]\n",
    "              conditional_to_count[conditional] = conditional_to_count.get(conditional, 0) + variable_to_counts[variable][value]\n",
    "          # now actually get the percentage\n",
    "          for value in variable_to_counts[variable]:\n",
    "              conditional = value[1:]\n",
    "              variable_to_probability[variable][value] = float(variable_to_counts[variable][value])/conditional_to_count[conditional]\n",
    "      else:\n",
    "          # there are no parents\n",
    "          for value in variable_to_counts[variable]:\n",
    "              # add all of the counts for all of the values for the variable\n",
    "              total = sum(variable_to_counts[variable].values())\n",
    "              variable_to_probability[variable][value] = float(variable_to_counts[variable][value])/total\n",
    "  return variable_to_probability"
   ]
  },
  {
   "cell_type": "code",
   "execution_count": 45,
   "metadata": {
    "collapsed": true,
    "deletable": true,
    "editable": true
   },
   "outputs": [],
   "source": [
    "variable_to_probability = normalize(variables_to_parents, variable_to_counts)"
   ]
  },
  {
   "cell_type": "code",
   "execution_count": 46,
   "metadata": {
    "collapsed": false,
    "deletable": true,
    "editable": true
   },
   "outputs": [],
   "source": [
    "# E-step\n",
    "def e_step(data, var_to_prob, variables_to_parents):\n",
    "  assignment_to_curr_prob = {}\n",
    "  known_var_to_total = {}\n",
    "  variables_sorted = sorted(variables_to_parents.keys())\n",
    "  airplane_delay_var_index = variables_sorted.index(\"airplane_delay\")\n",
    "  time_delay_var_index = variables_sorted.index(\"time_delay\")\n",
    "  for index, row in data.iterrows():\n",
    "    # consider all possible values of the hidden variable\n",
    "    for airplane_delay_val in range(NUM_AIRPLANE_DELAY_BUCKETS):\n",
    "      for time_delay_val in range(NUM_TIME_DELAY_BUCKETS):\n",
    "        # determine joint probability\n",
    "        prob = 1\n",
    "        assignment = []\n",
    "        # sort the (variable, parent_list) tuples by variable name, this ensures that assigments are always in the same order\n",
    "        for (variable, parent_list) in sorted(variables_to_parents.items(), key=lambda tup: tup[0]):\n",
    "          if variable == \"time_delay\":\n",
    "            value = time_delay_val\n",
    "          elif variable == 'airplane_delay':\n",
    "            value = airplane_delay_val\n",
    "          else:\n",
    "            value = str(row[variable])\n",
    "          assignment.append(value)\n",
    "          if parent_list != []:\n",
    "            value = [value]\n",
    "            for parent in parent_list:\n",
    "                if parent == \"time_delay\":\n",
    "                  value.append(time_delay_val)\n",
    "                elif parent == \"airplane_delay\":\n",
    "                  value.append(airplane_delay_val)\n",
    "                else:\n",
    "                  value.append(str(row[parent]))\n",
    "            value = tuple(value)\n",
    "          prob *= var_to_prob[variable][value]\n",
    "        # add the joint probability to the map of assigments\n",
    "        known_vars = assignment[:airplane_delay_var_index]\n",
    "        known_vars.extend(assignment[airplane_delay_var_index+1:time_delay_var_index])\n",
    "        known_vars = tuple(known_vars)\n",
    "        known_var_to_total[known_vars] = known_var_to_total.get(known_vars, 0) + prob\n",
    "        assignment = tuple(assignment)\n",
    "        assignment_to_curr_prob[assignment] = prob\n",
    "  # now I need to normalize the probabilities\n",
    "  assigment_to_norm_prob = {}\n",
    "  for (assignment, prob) in assignment_to_curr_prob.items():\n",
    "    known_vars = list(assignment[:airplane_delay_var_index])\n",
    "    known_vars.extend(assignment[airplane_delay_var_index+1:time_delay_var_index])\n",
    "    known_vars = tuple(known_vars)\n",
    "    total = known_var_to_total[known_vars] \n",
    "    assigment_to_norm_prob[assignment] = float(prob) / total\n",
    "  return assigment_to_norm_prob"
   ]
  },
  {
   "cell_type": "code",
   "execution_count": 47,
   "metadata": {
    "collapsed": true,
    "deletable": true,
    "editable": true
   },
   "outputs": [],
   "source": [
    "def initialize_counts(variables_to_parents, smoothing_constant, bayes_data):\n",
    "  variable_to_counts = {}\n",
    "  for var in variables_to_parents:\n",
    "    if len(variables_to_parents[var]) == 0:\n",
    "        variable_to_counts[var] = {key:smoothing_constant for key in np.unique(bayes_data[var].astype(str).unique())}\n",
    "  variable_to_counts['time_delay'] = {(time_delay, month, day_of_week, sch_departure):smoothing_constant\n",
    "                                    for time_delay in range(NUM_TIME_DELAY_BUCKETS)\n",
    "                                    for month in bayes_data['MONTH'].astype(str).unique()\n",
    "                                    for day_of_week in bayes_data['DAY_OF_WEEK'].astype(str).unique()\n",
    "                                    for sch_departure in bayes_data['SCHEDULED_DEPARTURE'].astype(str).unique()}\n",
    "  variable_to_counts['airplane_delay'] = {(airplane_delay, year, model):smoothing_constant\n",
    "                                       for airplane_delay in range(NUM_AIRPLANE_DELAY_BUCKETS)\n",
    "                                       for year in bayes_data['YEAR'].astype(str).unique()\n",
    "                                       for model in bayes_data['MODEL'].astype(str).unique()}\n",
    "  variable_to_counts['ARRIVAL_DELAY'] = {(arrival_delay, time_delay, airline, dest_airport, airplane_delay):smoothing_constant\n",
    "                                      for arrival_delay in bayes_data['ARRIVAL_DELAY'].astype(str).unique()\n",
    "                                      for time_delay in range(NUM_TIME_DELAY_BUCKETS)\n",
    "                                      for airline in bayes_data['AIRLINE'].astype(str).unique()\n",
    "                                      for dest_airport in bayes_data['DESTINATION_AIRPORT'].astype(str).unique()\n",
    "                                      for airplane_delay in range(NUM_AIRPLANE_DELAY_BUCKETS)}\n",
    "  return variable_to_counts"
   ]
  },
  {
   "cell_type": "code",
   "execution_count": 48,
   "metadata": {
    "collapsed": true,
    "deletable": true,
    "editable": true
   },
   "outputs": [],
   "source": [
    "def m_step(assignment_to_prob, variables_to_parents, smoothing_constant, bayes_data):\n",
    "  variables_sorted = sorted(variables_to_parents.keys())\n",
    "  # need way of translating assignment index to variable value\n",
    "  variable_to_assigment_index = {variables_sorted[i]:i for i in range(len(variables_sorted))}\n",
    "  # initialize the new counts map\n",
    "  variable_to_counts = initialize_counts(variables_to_parents,smoothing_constant, bayes_data)\n",
    "  # for every assignment, add the value of its variables to the counts\n",
    "  for (assignment, weight) in assignment_to_prob.items():\n",
    "    for (variable, parent_list) in variables_to_parents.items():\n",
    "      value = assignment[variable_to_assigment_index[variable]]\n",
    "      if parent_list != []:\n",
    "        value = [value]\n",
    "        for parent in parent_list:\n",
    "           value.append(assignment[variable_to_assigment_index[parent]])\n",
    "        value = tuple(value)\n",
    "      variable_to_counts[variable][value] += weight\n",
    "  # normalize\n",
    "  variable_to_prob = normalize(variables_to_parents, variable_to_counts)\n",
    "  return variable_to_prob"
   ]
  },
  {
   "cell_type": "code",
   "execution_count": 49,
   "metadata": {
    "collapsed": false,
    "deletable": true,
    "editable": true
   },
   "outputs": [],
   "source": [
    "def EM_learning(bayes_data, variable_to_probability, variable_to_parents, epsilon):\n",
    "  greaterThanEpsilon = True\n",
    "  iteration = 0\n",
    "  old_var_to_prob = variable_to_probability\n",
    "  while greaterThanEpsilon and iteration < 50:\n",
    "    assigment_to_norm_prob = e_step(bayes_data, old_var_to_prob, variable_to_parents)\n",
    "    updated_var_to_prob = m_step(assigment_to_norm_prob, variable_to_parents, .0001, bayes_data)\n",
    "    # determine if we've converged\n",
    "    # for us, convergence happens if all of the unknown thetas change by less than epsilon\n",
    "    # right now, unknown thetas are probabilities of airplane_delay\n",
    "    greaterThanEpsilon = False\n",
    "    for value in old_var_to_prob['airplane_delay']:\n",
    "      diff = abs(old_var_to_prob['airplane_delay'][value] - updated_var_to_prob['airplane_delay'][value])\n",
    "      if diff > epsilon:\n",
    "        greaterThanEpsilon = True\n",
    "        break\n",
    "    iteration += 1\n",
    "    print('iteration: {} diff: {}'.format(iteration, diff))\n",
    "    # print(updated_var_to_prob['airplane_delay'][(1, '7', '1', '13')])\n",
    "    old_var_to_prob = updated_var_to_prob\n",
    "  return updated_var_to_prob"
   ]
  },
  {
   "cell_type": "code",
   "execution_count": 50,
   "metadata": {
    "collapsed": false,
    "deletable": true,
    "editable": true
   },
   "outputs": [
    {
     "name": "stdout",
     "output_type": "stream",
     "text": [
      "iteration: 1 diff: 0.0727272727273\n",
      "iteration: 2 diff: 0.00228325544438\n",
      "iteration: 3 diff: 0.00300111428718\n",
      "iteration: 4 diff: 0.00349005438551\n",
      "iteration: 5 diff: 0.00157316595281\n",
      "iteration: 6 diff: 0.00179728308136\n",
      "iteration: 7 diff: 0.00167100346749\n",
      "iteration: 8 diff: 0.00196324759772\n",
      "iteration: 9 diff: 0.00224536388808\n",
      "iteration: 10 diff: 0.00250399825079\n",
      "iteration: 11 diff: 0.00272344926878\n",
      "iteration: 12 diff: 0.00288816233878\n",
      "iteration: 13 diff: 0.00298624700941\n",
      "iteration: 14 diff: 0.00301312528587\n",
      "iteration: 15 diff: 0.00297374598534\n",
      "iteration: 16 diff: 0.00288197040906\n",
      "iteration: 17 diff: 0.00275705897859\n",
      "iteration: 18 diff: 0.00261880640868\n",
      "iteration: 19 diff: 0.00248344387682\n",
      "iteration: 20 diff: 0.00236159581766\n",
      "iteration: 21 diff: 0.00225825120571\n",
      "iteration: 22 diff: 0.00217390246092\n",
      "iteration: 23 diff: 0.0021059797303\n",
      "iteration: 24 diff: 0.00205018243994\n",
      "iteration: 25 diff: 0.00200164772515\n",
      "iteration: 26 diff: 0.00195588063487\n",
      "iteration: 27 diff: 0.00190934719197\n",
      "iteration: 28 diff: 0.00185969288891\n",
      "iteration: 29 diff: 0.00180565380207\n",
      "iteration: 30 diff: 0.00174679227874\n",
      "iteration: 31 diff: 0.00168320873428\n",
      "iteration: 32 diff: 0.00161534097104\n",
      "iteration: 33 diff: 0.00154384597504\n",
      "iteration: 34 diff: 0.00200693672242\n",
      "iteration: 35 diff: 0.00190709987439\n",
      "iteration: 36 diff: 0.00180529151734\n",
      "iteration: 37 diff: 0.00170271222428\n",
      "iteration: 38 diff: 0.00159994676898\n",
      "iteration: 39 diff: 0.00372440165469\n",
      "iteration: 40 diff: 0.0035221088906\n",
      "iteration: 41 diff: 0.00332066655829\n",
      "iteration: 42 diff: 0.00312479547906\n",
      "iteration: 43 diff: 0.00293991499411\n",
      "iteration: 44 diff: 0.00277167071593\n",
      "iteration: 45 diff: 0.00262526124244\n",
      "iteration: 46 diff: 0.0025048701201\n",
      "iteration: 47 diff: 0.00241342500833\n",
      "iteration: 48 diff: 0.00235255865331\n",
      "iteration: 49 diff: 0.00232276769144\n",
      "iteration: 50 diff: 0.00232361758068\n"
     ]
    }
   ],
   "source": [
    "final_var_to_prob = EM_learning(bayes_data, variable_to_probability, variables_to_parents, 0.0015)"
   ]
  },
  {
   "cell_type": "code",
   "execution_count": 51,
   "metadata": {
    "collapsed": true,
    "deletable": true,
    "editable": true
   },
   "outputs": [],
   "source": [
    "from sklearn import metrics\n",
    "from sklearn.metrics import confusion_matrix"
   ]
  },
  {
   "cell_type": "code",
   "execution_count": 52,
   "metadata": {
    "collapsed": true
   },
   "outputs": [],
   "source": [
    "flights_data_test = bucket.item('model-test.csv')\n",
    "uri = flights_data_test.uri\n",
    "%gcs read --object $uri --variable data\n",
    "test_data = pd.read_csv(BytesIO(data))\n",
    "true_labels = test_data[['ARRIVAL_DELAY']].values"
   ]
  },
  {
   "cell_type": "code",
   "execution_count": null,
   "metadata": {
    "collapsed": false
   },
   "outputs": [],
   "source": [
    "# test 1\n",
    "guessed_labels = []\n",
    "for index, row in test_data.iterrows():\n",
    "  max_prob = 0\n",
    "  max_val = -1\n",
    "  for arrival_delay_val in range(3): # arrival delay can be 0, 1 or 2\n",
    "    for time_delay_val in range(NUM_TIME_DELAY_BUCKETS):\n",
    "      for airplane_delay_val in range(NUM_AIRPLANE_DELAY_BUCKETS):\n",
    "        parent_list = variables_to_parents['ARRIVAL_DELAY']\n",
    "        value = str(float(arrival_delay_val))\n",
    "        value = [value]\n",
    "        for parent in parent_list:\n",
    "          if parent == 'time_delay':\n",
    "            value.append(time_delay_val)\n",
    "          elif parent == 'airplane_delay':\n",
    "            value.append(airplane_delay_val)\n",
    "          else:\n",
    "            value.append(str(row[parent]))\n",
    "        value = tuple(value)\n",
    "        prob = final_var_to_prob['ARRIVAL_DELAY'].get(value, .00000000000001)\n",
    "        if prob > max_prob:\n",
    "          max_prob = prob\n",
    "          max_val = arrival_delay_val    \n",
    "  guessed_labels.append(max_val)\n"
   ]
  },
  {
   "cell_type": "code",
   "execution_count": 65,
   "metadata": {
    "collapsed": true
   },
   "outputs": [],
   "source": [
    "for i in range(len(guessed_labels)):\n",
    "  curr = guessed_labels[i]\n",
    "  curr += 1\n",
    "  if curr == 3:\n",
    "    curr = 0\n",
    "  guessed_labels[i] = curr"
   ]
  },
  {
   "cell_type": "code",
   "execution_count": 66,
   "metadata": {
    "collapsed": false
   },
   "outputs": [
    {
     "name": "stdout",
     "output_type": "stream",
     "text": [
      "17700\n",
      "baseline test acc: 0.3324858757062147\n",
      "baseline precision: 0.32673267326732675\n"
     ]
    }
   ],
   "source": [
    "lr_test_acc = metrics.accuracy_score(true_labels, guessed_labels)\n",
    "pred_y_test = [1 if guessed_labels[i] > 1 else 0 for i in range(len(guessed_labels))]\n",
    "test_y_binarized = [1 if true_labels[i] > 1 else 0 for i in range(len(true_labels))]\n",
    "print (len(test_y_binarized))\n",
    "print ('baseline test acc: ' + str(lr_test_acc))\n",
    "print ('baseline precision: ' + str(metrics.precision_score(test_y_binarized, pred_y_test)))"
   ]
  },
  {
   "cell_type": "code",
   "execution_count": 67,
   "metadata": {
    "collapsed": false
   },
   "outputs": [
    {
     "name": "stdout",
     "output_type": "stream",
     "text": [
      "[[0.]\n",
      " [1.]\n",
      " [1.]\n",
      " [0.]\n",
      " [2.]]\n",
      "[0, 1, 1, 1, 2]\n"
     ]
    }
   ],
   "source": [
    "print(true_labels[:5])\n",
    "print(guessed_labels[:5])"
   ]
  },
  {
   "cell_type": "code",
   "execution_count": 68,
   "metadata": {
    "collapsed": true
   },
   "outputs": [],
   "source": [
    "import cPickle as pickle\n",
    "\n",
    "json = pickle.dumps(final_var_to_prob)\n",
    "bucket.item('hidden_time_and_airplane_var.txt').write_to(json,'text/txt')"
   ]
  },
  {
   "cell_type": "code",
   "execution_count": null,
   "metadata": {
    "collapsed": true
   },
   "outputs": [],
   "source": []
  }
 ],
 "metadata": {
  "kernelspec": {
   "display_name": "Python 2",
   "language": "python",
   "name": "python2"
  },
  "language_info": {
   "codemirror_mode": {
    "name": "ipython",
    "version": 2
   },
   "file_extension": ".py",
   "mimetype": "text/x-python",
   "name": "python",
   "nbconvert_exporter": "python",
   "pygments_lexer": "ipython2",
   "version": "2.7.15"
  }
 },
 "nbformat": 4,
 "nbformat_minor": 2
}
