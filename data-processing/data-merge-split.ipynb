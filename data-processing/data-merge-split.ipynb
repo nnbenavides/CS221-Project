{
 "cells": [
  {
   "cell_type": "code",
   "execution_count": 7,
   "metadata": {
    "collapsed": true
   },
   "outputs": [],
   "source": [
    "import pandas as pd \n",
    "import numpy as np\n",
    "from sklearn.model_selection import train_test_split"
   ]
  },
  {
   "cell_type": "code",
   "execution_count": 8,
   "metadata": {},
   "outputs": [
    {
     "data": {
      "text/html": [
       "<div>\n",
       "<style>\n",
       "    .dataframe thead tr:only-child th {\n",
       "        text-align: right;\n",
       "    }\n",
       "\n",
       "    .dataframe thead th {\n",
       "        text-align: left;\n",
       "    }\n",
       "\n",
       "    .dataframe tbody tr th {\n",
       "        vertical-align: top;\n",
       "    }\n",
       "</style>\n",
       "<table border=\"1\" class=\"dataframe\">\n",
       "  <thead>\n",
       "    <tr style=\"text-align: right;\">\n",
       "      <th></th>\n",
       "      <th>ARRIVAL_DELAY</th>\n",
       "      <th>DAY</th>\n",
       "      <th>MONTH</th>\n",
       "      <th>DAY_OF_WEEK</th>\n",
       "      <th>AIRLINE</th>\n",
       "      <th>ORIGIN_AIRPORT</th>\n",
       "      <th>DESTINATION_AIRPORT</th>\n",
       "      <th>SCHEDULED_DEPARTURE</th>\n",
       "      <th>TAIL_NUMBER</th>\n",
       "      <th>TEMPERATURE</th>\n",
       "      <th>ICON</th>\n",
       "      <th>HUMIDITY</th>\n",
       "      <th>SUMMARY</th>\n",
       "      <th>WIND_SPEED</th>\n",
       "      <th>VISIBILITY</th>\n",
       "      <th>PRECIP_INTENSITY</th>\n",
       "      <th>PRECIP_PROB</th>\n",
       "      <th>MODEL</th>\n",
       "      <th>YEAR</th>\n",
       "    </tr>\n",
       "  </thead>\n",
       "  <tbody>\n",
       "    <tr>\n",
       "      <th>0</th>\n",
       "      <td>1</td>\n",
       "      <td>1</td>\n",
       "      <td>1</td>\n",
       "      <td>4</td>\n",
       "      <td>UA</td>\n",
       "      <td>ORD</td>\n",
       "      <td>IAH</td>\n",
       "      <td>5</td>\n",
       "      <td>N30401</td>\n",
       "      <td>2</td>\n",
       "      <td>clear-night</td>\n",
       "      <td>3</td>\n",
       "      <td>Clear</td>\n",
       "      <td>4</td>\n",
       "      <td>5</td>\n",
       "      <td>1</td>\n",
       "      <td>1</td>\n",
       "      <td>737-924</td>\n",
       "      <td>2001</td>\n",
       "    </tr>\n",
       "    <tr>\n",
       "      <th>1</th>\n",
       "      <td>2</td>\n",
       "      <td>2</td>\n",
       "      <td>1</td>\n",
       "      <td>5</td>\n",
       "      <td>UA</td>\n",
       "      <td>ORD</td>\n",
       "      <td>DEN</td>\n",
       "      <td>9</td>\n",
       "      <td>N30401</td>\n",
       "      <td>2</td>\n",
       "      <td>clear-day</td>\n",
       "      <td>3</td>\n",
       "      <td>Clear</td>\n",
       "      <td>4</td>\n",
       "      <td>5</td>\n",
       "      <td>1</td>\n",
       "      <td>1</td>\n",
       "      <td>737-924</td>\n",
       "      <td>2001</td>\n",
       "    </tr>\n",
       "    <tr>\n",
       "      <th>2</th>\n",
       "      <td>0</td>\n",
       "      <td>2</td>\n",
       "      <td>1</td>\n",
       "      <td>5</td>\n",
       "      <td>UA</td>\n",
       "      <td>ORD</td>\n",
       "      <td>RIC</td>\n",
       "      <td>18</td>\n",
       "      <td>N30401</td>\n",
       "      <td>0</td>\n",
       "      <td>partly-cloudy-night</td>\n",
       "      <td>3</td>\n",
       "      <td>Partly Cloudy</td>\n",
       "      <td>8</td>\n",
       "      <td>5</td>\n",
       "      <td>1</td>\n",
       "      <td>1</td>\n",
       "      <td>737-924</td>\n",
       "      <td>2001</td>\n",
       "    </tr>\n",
       "    <tr>\n",
       "      <th>3</th>\n",
       "      <td>1</td>\n",
       "      <td>11</td>\n",
       "      <td>1</td>\n",
       "      <td>7</td>\n",
       "      <td>UA</td>\n",
       "      <td>ORD</td>\n",
       "      <td>PDX</td>\n",
       "      <td>8</td>\n",
       "      <td>N30401</td>\n",
       "      <td>2</td>\n",
       "      <td>clear-day</td>\n",
       "      <td>3</td>\n",
       "      <td>Clear</td>\n",
       "      <td>0</td>\n",
       "      <td>5</td>\n",
       "      <td>1</td>\n",
       "      <td>1</td>\n",
       "      <td>737-924</td>\n",
       "      <td>2001</td>\n",
       "    </tr>\n",
       "    <tr>\n",
       "      <th>4</th>\n",
       "      <td>2</td>\n",
       "      <td>12</td>\n",
       "      <td>1</td>\n",
       "      <td>1</td>\n",
       "      <td>UA</td>\n",
       "      <td>ORD</td>\n",
       "      <td>DEN</td>\n",
       "      <td>9</td>\n",
       "      <td>N30401</td>\n",
       "      <td>0</td>\n",
       "      <td>partly-cloudy-day</td>\n",
       "      <td>3</td>\n",
       "      <td>Partly Cloudy</td>\n",
       "      <td>8</td>\n",
       "      <td>4</td>\n",
       "      <td>1</td>\n",
       "      <td>1</td>\n",
       "      <td>737-924</td>\n",
       "      <td>2001</td>\n",
       "    </tr>\n",
       "  </tbody>\n",
       "</table>\n",
       "</div>"
      ],
      "text/plain": [
       "   ARRIVAL_DELAY  DAY  MONTH  DAY_OF_WEEK AIRLINE ORIGIN_AIRPORT  \\\n",
       "0              1    1      1            4      UA            ORD   \n",
       "1              2    2      1            5      UA            ORD   \n",
       "2              0    2      1            5      UA            ORD   \n",
       "3              1   11      1            7      UA            ORD   \n",
       "4              2   12      1            1      UA            ORD   \n",
       "\n",
       "  DESTINATION_AIRPORT  SCHEDULED_DEPARTURE TAIL_NUMBER  TEMPERATURE  \\\n",
       "0                 IAH                    5      N30401            2   \n",
       "1                 DEN                    9      N30401            2   \n",
       "2                 RIC                   18      N30401            0   \n",
       "3                 PDX                    8      N30401            2   \n",
       "4                 DEN                    9      N30401            0   \n",
       "\n",
       "                  ICON  HUMIDITY        SUMMARY  WIND_SPEED  VISIBILITY  \\\n",
       "0          clear-night         3          Clear           4           5   \n",
       "1            clear-day         3          Clear           4           5   \n",
       "2  partly-cloudy-night         3  Partly Cloudy           8           5   \n",
       "3            clear-day         3          Clear           0           5   \n",
       "4    partly-cloudy-day         3  Partly Cloudy           8           4   \n",
       "\n",
       "   PRECIP_INTENSITY  PRECIP_PROB                 MODEL  YEAR  \n",
       "0                 1            1  737-924               2001  \n",
       "1                 1            1  737-924               2001  \n",
       "2                 1            1  737-924               2001  \n",
       "3                 1            1  737-924               2001  \n",
       "4                 1            1  737-924               2001  "
      ]
     },
     "execution_count": 8,
     "metadata": {},
     "output_type": "execute_result"
    }
   ],
   "source": [
    "f_data = pd.read_csv(\"data/weather_features_buckets.csv\", index_col = 0)\n",
    "f_data.head()"
   ]
  },
  {
   "cell_type": "code",
   "execution_count": 9,
   "metadata": {},
   "outputs": [
    {
     "name": "stdout",
     "output_type": "stream",
     "text": [
      "(139570, 19)\n",
      "(135428, 19)\n",
      "(135428, 19)\n"
     ]
    }
   ],
   "source": [
    "f_data = f_data.dropna()\n",
    "print f_data.shape\n",
    "f_data = f_data[f_data.apply(lambda x: len(x['MODEL']) <= 25 and x['YEAR'] != 'None', axis=1)]\n",
    "print f_data.shape\n",
    "f_data.dropna()\n",
    "print f_data.shape\n",
    "f_data.to_csv('data/cleaned_data.csv')"
   ]
  },
  {
   "cell_type": "code",
   "execution_count": 11,
   "metadata": {},
   "outputs": [
    {
     "name": "stdout",
     "output_type": "stream",
     "text": [
      "(135428, 19)\n"
     ]
    }
   ],
   "source": [
    "plane_data = pd.read_csv(\"data/cleaned_data.csv\", index_col = 0)\n",
    "plane_data.head()\n",
    "print plane_data.shape"
   ]
  },
  {
   "cell_type": "code",
   "execution_count": 14,
   "metadata": {},
   "outputs": [
    {
     "name": "stdout",
     "output_type": "stream",
     "text": [
      "(72993, 19)\n",
      "(29591, 19)\n",
      "(32844, 19)\n",
      "(29500, 19)\n",
      "(29500, 19)\n",
      "(29500, 19)\n"
     ]
    }
   ],
   "source": [
    "sample_size = 29500\n",
    "early = plane_data[plane_data['ARRIVAL_DELAY'] == 0]\n",
    "print early.shape\n",
    "on_time = plane_data[plane_data['ARRIVAL_DELAY'] == 1]\n",
    "print on_time.shape\n",
    "delayed = plane_data[plane_data['ARRIVAL_DELAY'] == 2]\n",
    "print delayed.shape\n",
    "\n",
    "early = early.sample(sample_size)\n",
    "on_time = on_time.sample(sample_size)\n",
    "delayed = delayed.sample(sample_size)\n",
    "print early.shape\n",
    "print on_time.shape\n",
    "print delayed.shape"
   ]
  },
  {
   "cell_type": "code",
   "execution_count": 15,
   "metadata": {},
   "outputs": [
    {
     "name": "stdout",
     "output_type": "stream",
     "text": [
      "(88500, 19)\n"
     ]
    }
   ],
   "source": [
    "model_data = pd.concat([early, on_time, delayed])\n",
    "print model_data.shape\n",
    "model_data.to_csv('data/model_data.csv')"
   ]
  },
  {
   "cell_type": "code",
   "execution_count": 16,
   "metadata": {
    "collapsed": true
   },
   "outputs": [],
   "source": [
    "features = model_data\n",
    "target = features[['ARRIVAL_DELAY']]\n",
    "features.drop(labels = ['ARRIVAL_DELAY'], axis = 1, inplace = True)\n",
    "features.head()\n",
    "train_x, test_x, train_y, test_y = train_test_split(features, target, train_size=0.8)"
   ]
  },
  {
   "cell_type": "code",
   "execution_count": 17,
   "metadata": {},
   "outputs": [
    {
     "name": "stdout",
     "output_type": "stream",
     "text": [
      "(70800, 18)\n",
      "(70800, 1)\n",
      "(17700, 18)\n",
      "(17700, 1)\n"
     ]
    }
   ],
   "source": [
    "print train_x.shape\n",
    "print train_y.shape\n",
    "print test_x.shape\n",
    "print test_y.shape"
   ]
  },
  {
   "cell_type": "code",
   "execution_count": 18,
   "metadata": {
    "collapsed": true
   },
   "outputs": [],
   "source": [
    "train = pd.concat([train_x, train_y], axis = 1)\n",
    "test = pd.concat([test_x, test_y], axis = 1)\n",
    "train.to_csv('data/model-train.csv')\n",
    "test.to_csv('data/model-test.csv')"
   ]
  },
  {
   "cell_type": "code",
   "execution_count": null,
   "metadata": {
    "collapsed": true
   },
   "outputs": [],
   "source": []
  }
 ],
 "metadata": {
  "kernelspec": {
   "display_name": "Python 2",
   "language": "python",
   "name": "python2"
  },
  "language_info": {
   "codemirror_mode": {
    "name": "ipython",
    "version": 2
   },
   "file_extension": ".py",
   "mimetype": "text/x-python",
   "name": "python",
   "nbconvert_exporter": "python",
   "pygments_lexer": "ipython2",
   "version": "2.7.13"
  }
 },
 "nbformat": 4,
 "nbformat_minor": 2
}
