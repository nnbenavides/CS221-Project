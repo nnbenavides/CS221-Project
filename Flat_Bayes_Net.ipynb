{
 "cells": [
  {
   "cell_type": "code",
   "execution_count": 1,
   "metadata": {
    "collapsed": true,
    "deletable": true,
    "editable": true
   },
   "outputs": [],
   "source": [
    "import datalab.storage as storage\n",
    "import pandas as pd\n",
    "from io import BytesIO\n",
    "import numpy as np\n",
    "import random\n",
    "import collections\n",
    "from collections import defaultdict"
   ]
  },
  {
   "cell_type": "code",
   "execution_count": 2,
   "metadata": {
    "collapsed": true,
    "deletable": true,
    "editable": true
   },
   "outputs": [],
   "source": [
    "bucket = storage.Bucket('cs221-flight-data')\n",
    "flights_data = bucket.item('model-train.csv')\n",
    "uri = flights_data.uri\n",
    "%gcs read --object $uri --variable data\n",
    "bayes_data = pd.read_csv(BytesIO(data))"
   ]
  },
  {
   "cell_type": "code",
   "execution_count": 3,
   "metadata": {
    "collapsed": true,
    "deletable": true,
    "editable": true
   },
   "outputs": [],
   "source": [
    "# CONSTANTS\n",
    "NUM_TIME_DELAY_BUCKETS = 5\n",
    "NUM_AIRPLANE_DELAY_BUCKETS = 5\n",
    "\n",
    "# map the variables to their parents\n",
    "variables_to_parents = {}\n",
    "variables_to_parents['MONTH'] = []\n",
    "variables_to_parents['DAY_OF_WEEK'] = []\n",
    "variables_to_parents['SCHEDULED_DEPARTURE'] = []\n",
    "variables_to_parents['AIRLINE'] = []\n",
    "variables_to_parents['DESTINATION_AIRPORT'] = []\n",
    "# variables_to_parents['YEAR'] = [] # year is the year of the airplane make NOT the year that the flight departs\n",
    "# variables_to_parents['MODEL'] = []\n",
    "variables_to_parents['ARRIVAL_DELAY'] = ['MONTH', 'DAY_OF_WEEK', 'SCHEDULED_DEPARTURE', 'AIRLINE', 'DESTINATION_AIRPORT']"
   ]
  },
  {
   "cell_type": "code",
   "execution_count": 4,
   "metadata": {
    "collapsed": true,
    "deletable": true,
    "editable": true
   },
   "outputs": [],
   "source": [
    "# initialize the counts dict\n",
    "variable_to_counts = {}\n",
    "for var in variables_to_parents:\n",
    "    variable_to_counts[var] = defaultdict(int)"
   ]
  },
  {
   "cell_type": "code",
   "execution_count": 5,
   "metadata": {
    "collapsed": true,
    "deletable": true,
    "editable": true
   },
   "outputs": [],
   "source": [
    "# count\n",
    "for index, row in bayes_data.iterrows():\n",
    "    for (variable, parent_list) in variables_to_parents.items():\n",
    "      # need to make tuple of value with their parent(conditional) values\n",
    "      value = str(row[variable])\n",
    "      if parent_list != []:\n",
    "        value = [value]\n",
    "        for parent in parent_list:\n",
    "          value.append(str(row[parent]))\n",
    "        value = tuple(value)\n",
    "      # increase the count\n",
    "      variable_to_counts[variable][value] += 1"
   ]
  },
  {
   "cell_type": "code",
   "execution_count": 6,
   "metadata": {
    "collapsed": true,
    "deletable": true,
    "editable": true
   },
   "outputs": [],
   "source": [
    "def normalize(variables_to_parents, variable_to_counts):\n",
    "  variable_to_probability = {}\n",
    "  for variable in variable_to_counts:\n",
    "      variable_to_probability[variable] = {}\n",
    "      if len(variables_to_parents[variable]) > 0:\n",
    "          # then we need to do some fun tuple stuff because the conditionals are what is constant\n",
    "          conditional_to_count = {}\n",
    "          for value in variable_to_counts[variable]:\n",
    "              conditional = value[1:]\n",
    "              conditional_to_count[conditional] = conditional_to_count.get(conditional, 0) + variable_to_counts[variable][value]\n",
    "          # now actually get the percentage\n",
    "          for value in variable_to_counts[variable]:\n",
    "              conditional = value[1:]\n",
    "              variable_to_probability[variable][value] = float(variable_to_counts[variable][value])/conditional_to_count[conditional]\n",
    "      else:\n",
    "          # there are no parents\n",
    "          for value in variable_to_counts[variable]:\n",
    "              # add all of the counts for all of the values for the variable\n",
    "              total = sum(variable_to_counts[variable].values())\n",
    "              variable_to_probability[variable][value] = float(variable_to_counts[variable][value])/total\n",
    "  return variable_to_probability"
   ]
  },
  {
   "cell_type": "code",
   "execution_count": 7,
   "metadata": {
    "collapsed": true,
    "deletable": true,
    "editable": true
   },
   "outputs": [],
   "source": [
    "# normalize\n",
    "variable_to_probability = normalize(variables_to_parents, variable_to_counts)"
   ]
  },
  {
   "cell_type": "code",
   "execution_count": 13,
   "metadata": {
    "collapsed": false
   },
   "outputs": [
    {
     "ename": "KeyboardInterrupt",
     "evalue": "",
     "output_type": "error",
     "traceback": [
      "\u001b[0;31m\u001b[0m",
      "\u001b[0;31mKeyboardInterrupt\u001b[0mTraceback (most recent call last)",
      "\u001b[0;32m<ipython-input-13-26d6da08a468>\u001b[0m in \u001b[0;36m<module>\u001b[0;34m()\u001b[0m\n\u001b[1;32m     14\u001b[0m       \u001b[0mtotal\u001b[0m \u001b[0;34m=\u001b[0m \u001b[0;36m0\u001b[0m\u001b[0;34m\u001b[0m\u001b[0m\n\u001b[1;32m     15\u001b[0m       \u001b[0mcount\u001b[0m \u001b[0;34m=\u001b[0m \u001b[0;36m0\u001b[0m\u001b[0;34m\u001b[0m\u001b[0m\n\u001b[0;32m---> 16\u001b[0;31m       \u001b[0;32mfor\u001b[0m \u001b[0massignment\u001b[0m \u001b[0;32min\u001b[0m \u001b[0mvariable_to_counts\u001b[0m\u001b[0;34m[\u001b[0m\u001b[0;34m\"ARRIVAL_DELAY\"\u001b[0m\u001b[0;34m]\u001b[0m\u001b[0;34m:\u001b[0m\u001b[0;34m\u001b[0m\u001b[0m\n\u001b[0m\u001b[1;32m     17\u001b[0m         \u001b[0;32mif\u001b[0m \u001b[0massignment\u001b[0m\u001b[0;34m[\u001b[0m\u001b[0mvar_to_index\u001b[0m\u001b[0;34m[\u001b[0m\u001b[0mvariable\u001b[0m\u001b[0;34m]\u001b[0m\u001b[0;34m]\u001b[0m \u001b[0;34m==\u001b[0m \u001b[0mvalue\u001b[0m\u001b[0;34m:\u001b[0m\u001b[0;34m\u001b[0m\u001b[0m\n\u001b[1;32m     18\u001b[0m           \u001b[0mtotal\u001b[0m \u001b[0;34m+=\u001b[0m \u001b[0;36m1\u001b[0m\u001b[0;34m\u001b[0m\u001b[0m\n",
      "\u001b[0;31mKeyboardInterrupt\u001b[0m: "
     ]
    }
   ],
   "source": [
    "#test 1\n",
    "test_data = pd.read_csv(BytesIO(data))\n",
    "true_labels = test_data[['ARRIVAL_DELAY']].values\n",
    "feature_variables = ['MONTH', 'DAY_OF_WEEK', 'SCHEDULED_DEPARTURE', 'AIRLINE', 'DESTINATION_AIRPORT']\n",
    "guessed_labels = []\n",
    "var_to_index = {'ARRIVAL_DELAY':0, 'MONTH':1, 'DAY_OF_WEEK':2, 'SCHEDULED_DEPARTURE':3, 'AIRLINE':4, 'DESTINATION_AIRPORT':5}\n",
    "for index, row in bayes_data.iterrows():\n",
    "  for arrival_delay_val in range(3): # arrival delay can be 0, 1 or 2\n",
    "    max_prob = 0\n",
    "    max_val = -1\n",
    "    prob = 1\n",
    "    for variable in feature_variables:\n",
    "      value = str(row[variable])\n",
    "      total = 0\n",
    "      count = 0\n",
    "      for assignment in variable_to_counts[\"ARRIVAL_DELAY\"]:\n",
    "        if assignment[var_to_index[variable]] == value:\n",
    "          total += 1\n",
    "          if assignment[var_to_index['ARRIVAL_DELAY']] == str(arrival_delay_val):\n",
    "            count += 1\n",
    "      prob *= float(count)/total\n",
    "    if prob > max_prob:\n",
    "      max_prob = prob\n",
    "      max_val = arrival_delay_val\n",
    "  guessed_labels.append(max_val)"
   ]
  },
  {
   "cell_type": "code",
   "execution_count": 19,
   "metadata": {
    "collapsed": false
   },
   "outputs": [
    {
     "ename": "KeyError",
     "evalue": "('0.0', '8', '5', '13', 'EV', 'ROA')",
     "output_type": "error",
     "traceback": [
      "\u001b[0;31m\u001b[0m",
      "\u001b[0;31mKeyError\u001b[0mTraceback (most recent call last)",
      "\u001b[0;32m<ipython-input-19-ef2811d9856d>\u001b[0m in \u001b[0;36m<module>\u001b[0;34m()\u001b[0m\n\u001b[1;32m     15\u001b[0m         \u001b[0mvalue\u001b[0m\u001b[0;34m.\u001b[0m\u001b[0mappend\u001b[0m\u001b[0;34m(\u001b[0m\u001b[0mstr\u001b[0m\u001b[0;34m(\u001b[0m\u001b[0mrow\u001b[0m\u001b[0;34m[\u001b[0m\u001b[0mparent\u001b[0m\u001b[0;34m]\u001b[0m\u001b[0;34m)\u001b[0m\u001b[0;34m)\u001b[0m\u001b[0;34m\u001b[0m\u001b[0m\n\u001b[1;32m     16\u001b[0m     \u001b[0mvalue\u001b[0m \u001b[0;34m=\u001b[0m \u001b[0mtuple\u001b[0m\u001b[0;34m(\u001b[0m\u001b[0mvalue\u001b[0m\u001b[0;34m)\u001b[0m\u001b[0;34m\u001b[0m\u001b[0m\n\u001b[0;32m---> 17\u001b[0;31m     \u001b[0mprob\u001b[0m \u001b[0;34m=\u001b[0m \u001b[0mvariable_to_probability\u001b[0m\u001b[0;34m[\u001b[0m\u001b[0mvariable\u001b[0m\u001b[0;34m]\u001b[0m\u001b[0;34m[\u001b[0m\u001b[0mvalue\u001b[0m\u001b[0;34m]\u001b[0m\u001b[0;34m\u001b[0m\u001b[0m\n\u001b[0m\u001b[1;32m     18\u001b[0m     \u001b[0;32mif\u001b[0m \u001b[0mprob\u001b[0m \u001b[0;34m>\u001b[0m \u001b[0mmax_prob\u001b[0m\u001b[0;34m:\u001b[0m\u001b[0;34m\u001b[0m\u001b[0m\n\u001b[1;32m     19\u001b[0m       \u001b[0mmax_prob\u001b[0m \u001b[0;34m=\u001b[0m \u001b[0mprob\u001b[0m\u001b[0;34m\u001b[0m\u001b[0m\n",
      "\u001b[0;31mKeyError\u001b[0m: ('0.0', '8', '5', '13', 'EV', 'ROA')"
     ]
    }
   ],
   "source": [
    "# test 2\n",
    "test_data = pd.read_csv(BytesIO(data))\n",
    "true_labels = test_data[['ARRIVAL_DELAY']].values\n",
    "feature_variables = ['MONTH', 'DAY_OF_WEEK', 'SCHEDULED_DEPARTURE', 'AIRLINE', 'DESTINATION_AIRPORT']\n",
    "guessed_labels = []\n",
    "for index, row in bayes_data.iterrows():\n",
    "  for arrival_delay_val in range(3): # arrival delay can be 0, 1 or 2\n",
    "    prob = 1\n",
    "    max_prob = 0\n",
    "    max_val = -1\n",
    "    parent_list = variables_to_parents['ARRIVAL_DELAY']\n",
    "    value = str(float(arrival_delay_val))\n",
    "    value = [value]\n",
    "    for parent in parent_list:\n",
    "        value.append(str(row[parent]))\n",
    "    value = tuple(value)\n",
    "    prob = variable_to_probability[variable][value]\n",
    "    if prob > max_prob:\n",
    "      max_prob = prob\n",
    "      max_val = arrival_delay_val\n",
    "  guessed_labels.append(max_val)"
   ]
  },
  {
   "cell_type": "code",
   "execution_count": null,
   "metadata": {
    "collapsed": false,
    "deletable": true,
    "editable": true
   },
   "outputs": [],
   "source": [
    "#test\n",
    "test_data = pd.read_csv(BytesIO(data))\n",
    "true_labels = test_data[['ARRIVAL_DELAY']].values\n",
    "feature_variables = ['MONTH', 'DAY_OF_WEEK', 'SCHEDULED_DEPARTURE', 'AIRLINE', 'DESTINATION_AIRPORT']\n",
    "guessed_labels = []\n",
    "for index, row in bayes_data.iterrows():\n",
    "  for arrival_delay_val in range(3): # arrival delay can be 0, 1 or 2\n",
    "    prob = 1\n",
    "    max_prob = 0\n",
    "    max_val = -1\n",
    "    for variable in feature_variables:\n",
    "      parent_list = variables_to_parents[variable]\n",
    "      if variable != 'ARRIVAL_DELAY':\n",
    "        value = str(row[variable])\n",
    "      else:\n",
    "        value = str(float(arrival_delay_val))\n",
    "      if parent_list != []:\n",
    "        value = [value]\n",
    "        for parent in parent_list:\n",
    "          value.append(str(row[parent]))\n",
    "        value = tuple(value)\n",
    "      prob *= variable_to_probability[variable][value]\n",
    "    if prob > max_prob:\n",
    "      max_prob = prob\n",
    "      max_val = arrival_delay_val\n",
    "  guessed_labels.append(max_val)"
   ]
  },
  {
   "cell_type": "code",
   "execution_count": null,
   "metadata": {
    "collapsed": false,
    "deletable": true,
    "editable": true
   },
   "outputs": [],
   "source": [
    "# lr_train_acc = metrics.accuracy_score(train_y, lr.predict(train_x))\n",
    "from sklearn import metrics\n",
    "from sklearn.metrics import confusion_matrix\n",
    "true_labels = [int(lst[0]) for lst in true_labels]\n",
    "lr_test_acc = metrics.accuracy_score(true_labels, guessed_labels)\n",
    "pred_y_test = [1 if guessed_labels[i] > 1 else 0 for i in range(len(guessed_labels))]\n",
    "test_y_binarized = [1 if true_labels[i] > 1 else 0 for i in range(len(true_labels))]\n",
    "print (len(test_y_binarized))\n",
    "print ('baseline test acc: ' + str(lr_test_acc))\n",
    "print ('baseline precision: ' + str(metrics.precision_score(test_y_binarized, pred_y_test)))"
   ]
  },
  {
   "cell_type": "code",
   "execution_count": null,
   "metadata": {
    "collapsed": false,
    "deletable": true,
    "editable": true
   },
   "outputs": [],
   "source": [
    "print(true_labels[:5])\n",
    "print(guessed_labels[:5])"
   ]
  },
  {
   "cell_type": "code",
   "execution_count": 20,
   "metadata": {
    "collapsed": true,
    "deletable": true,
    "editable": true
   },
   "outputs": [],
   "source": [
    "import cPickle as pickle\n",
    "\n",
    "json = pickle.dumps(variable_to_probability)\n",
    "bucket.item('flat-bayes.txt').write_to(json,'text/txt')"
   ]
  },
  {
   "cell_type": "code",
   "execution_count": null,
   "metadata": {
    "collapsed": true
   },
   "outputs": [],
   "source": []
  }
 ],
 "metadata": {
  "kernelspec": {
   "display_name": "Python 2",
   "language": "python",
   "name": "python2"
  },
  "language_info": {
   "codemirror_mode": {
    "name": "ipython",
    "version": 2
   },
   "file_extension": ".py",
   "mimetype": "text/x-python",
   "name": "python",
   "nbconvert_exporter": "python",
   "pygments_lexer": "ipython2",
   "version": "2.7.15"
  }
 },
 "nbformat": 4,
 "nbformat_minor": 2
}
