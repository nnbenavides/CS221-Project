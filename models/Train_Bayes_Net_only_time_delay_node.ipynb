{
 "cells": [
  {
   "cell_type": "code",
   "execution_count": 51,
   "metadata": {
    "collapsed": true,
    "deletable": true,
    "editable": true
   },
   "outputs": [],
   "source": [
    "import datalab.storage as storage\n",
    "import pandas as pd\n",
    "from io import BytesIO\n",
    "import numpy as np\n",
    "import random"
   ]
  },
  {
   "cell_type": "code",
   "execution_count": 52,
   "metadata": {
    "collapsed": true,
    "deletable": true,
    "editable": true
   },
   "outputs": [],
   "source": [
    "bucket = storage.Bucket('cs221-flight-data')\n",
    "flights_data = bucket.item('model-train.csv')\n",
    "uri = flights_data.uri\n",
    "%gcs read --object $uri --variable data\n",
    "bayes_data_train = pd.read_csv(BytesIO(data))\n",
    "flights_data = bucket.item('model-test.csv')\n",
    "uri = flights_data.uri\n",
    "%gcs read --object $uri --variable data\n",
    "bayes_data_test = pd.read_csv(BytesIO(data))\n",
    "bayes_data = pd.concat(bayes_data_train, bayes_data_test)"
   ]
  },
  {
   "cell_type": "code",
   "execution_count": 53,
   "metadata": {
    "collapsed": true,
    "deletable": true,
    "editable": true
   },
   "outputs": [],
   "source": [
    "# CONSTANTS\n",
    "NUM_TIME_DELAY_BUCKETS = 5\n",
    "NUM_AIRPLANE_DELAY_BUCKETS = 5\n",
    "la_place_constant = 1\n",
    "\n",
    "# map the variables to their parents\n",
    "variables_to_parents = {}\n",
    "variables_to_parents['MONTH'] = []\n",
    "variables_to_parents['DAY_OF_WEEK'] = []\n",
    "variables_to_parents['SCHEDULED_DEPARTURE'] = []\n",
    "variables_to_parents['time_delay'] = ['MONTH', 'DAY_OF_WEEK', 'SCHEDULED_DEPARTURE']\n",
    "variables_to_parents['AIRLINE'] = []\n",
    "variables_to_parents['DESTINATION_AIRPORT'] = []\n",
    "# variables_to_parents['YEAR'] = [] # year is the year of the airplane make NOT the year that the flight departs\n",
    "# variables_to_parents['MODEL'] = []\n",
    "# variables_to_parents['airplane_delay'] = ['YEAR', 'MODEL']\n",
    "# variables_to_parents['ARRIVAL_DELAY'] = ['time_delay', 'AIRLINE', 'DESTINATION_AIRPORT', 'airplane_delay']\n",
    "variables_to_parents['ARRIVAL_DELAY'] = ['time_delay', 'AIRLINE', 'DESTINATION_AIRPORT']\n"
   ]
  },
  {
   "cell_type": "code",
   "execution_count": 54,
   "metadata": {
    "collapsed": false,
    "deletable": true,
    "editable": true
   },
   "outputs": [],
   "source": [
    "# initialize the counts\n",
    "variable_to_counts = {}\n",
    "# these variables don't have parent variables\n",
    "for var in variables_to_parents:\n",
    "    if len(variables_to_parents[var]) == 0:\n",
    "        variable_to_counts[var] = {key:la_place_constant for key in np.unique(bayes_data[var].astype(str).unique())}\n",
    "\n",
    "# variable_to_counts['airplane_delay'] = {(airplane_delay, year, model):random.randint(1,10)\n",
    "                                 #      for airplane_delay in range(NUM_AIRPLANE_DELAY_BUCKETS)\n",
    "                                  #     for year in bayes_data['YEAR'].astype(str).unique()\n",
    "                                   #    for model in bayes_data['MODEL'].astype(str).unique()}"
   ]
  },
  {
   "cell_type": "code",
   "execution_count": 55,
   "metadata": {
    "collapsed": false,
    "deletable": true,
    "editable": true
   },
   "outputs": [],
   "source": [
    "# add the variable with parent variables\n",
    "# make sure that the order of the tuple is the same order as the parent list\n",
    "variable_to_counts['time_delay'] = {(time_delay, month, day_of_week, sch_departure):random.randint(1,3)\n",
    "                                    for time_delay in range(NUM_TIME_DELAY_BUCKETS)\n",
    "                                    for month in bayes_data['MONTH'].astype(str).unique()\n",
    "                                    for day_of_week in bayes_data['DAY_OF_WEEK'].astype(str).unique()\n",
    "                                    for sch_departure in bayes_data['SCHEDULED_DEPARTURE'].astype(str).unique()}"
   ]
  },
  {
   "cell_type": "code",
   "execution_count": 56,
   "metadata": {
    "collapsed": false,
    "deletable": true,
    "editable": true
   },
   "outputs": [],
   "source": [
    "# add the variable with parent variables\n",
    "# make sure that the order of the tuple is the same order as the parent list\n",
    "variable_to_counts['ARRIVAL_DELAY'] = {(arrival_delay, time_delay, airline, dest_airport):la_place_constant\n",
    "                                      for arrival_delay in bayes_data['ARRIVAL_DELAY'].astype(str).unique()\n",
    "                                      for time_delay in range(NUM_TIME_DELAY_BUCKETS)\n",
    "                                      for airline in bayes_data['AIRLINE'].astype(str).unique()\n",
    "                                      for dest_airport in bayes_data['DESTINATION_AIRPORT'].astype(str).unique()}\n",
    "                                      # for airplane_delay in range(NUM_AIRPLANE_DELAY_BUCKETS)}"
   ]
  },
  {
   "cell_type": "code",
   "execution_count": null,
   "metadata": {
    "collapsed": true
   },
   "outputs": [],
   "source": [
    "flights_data = bucket.item('model-train.csv')\n",
    "uri = flights_data.uri\n",
    "%gcs read --object $uri --variable data\n",
    "bayes_data = pd.read_csv(BytesIO(data))"
   ]
  },
  {
   "cell_type": "code",
   "execution_count": 57,
   "metadata": {
    "collapsed": false,
    "deletable": true,
    "editable": true
   },
   "outputs": [],
   "source": [
    "# count to get the probabilities for the quantities that we DO know\n",
    "for index, row in bayes_data.iterrows():\n",
    "    for (variable, parent_list) in variables_to_parents.items():\n",
    "        if variable != \"time_delay\":\n",
    "          # need to make tuple of value with their parent(conditional) values\n",
    "          value = str(row[variable])\n",
    "          if parent_list != []:\n",
    "            value = [value]\n",
    "            for parent in parent_list:\n",
    "              if parent != \"time_delay\":\n",
    "                value.append(str(row[parent]))\n",
    "              elif parent == \"time_delay\":\n",
    "                value.append(random.randint(0, NUM_TIME_DELAY_BUCKETS-1))\n",
    "            value = tuple(value)\n",
    "          # increase the count\n",
    "          variable_to_counts[variable][value] += 1"
   ]
  },
  {
   "cell_type": "code",
   "execution_count": 58,
   "metadata": {
    "collapsed": false,
    "deletable": true,
    "editable": true
   },
   "outputs": [],
   "source": [
    "# once the counts are initialized, need to normalize the probabilities \n",
    "def normalize(variables_to_parents, variable_to_counts):\n",
    "  variable_to_probability = {}\n",
    "  for variable in variable_to_counts:\n",
    "      variable_to_probability[variable] = {}\n",
    "      if len(variables_to_parents[variable]) > 0:\n",
    "          # then we need to do some fun tuple stuff because the conditionals are what is constant\n",
    "          conditional_to_count = {}\n",
    "          for value in variable_to_counts[variable]:\n",
    "              conditional = value[1:]\n",
    "              conditional_to_count[conditional] = conditional_to_count.get(conditional, 0) + variable_to_counts[variable][value]\n",
    "          # now actually get the percentage\n",
    "          for value in variable_to_counts[variable]:\n",
    "              conditional = value[1:]\n",
    "              variable_to_probability[variable][value] = float(variable_to_counts[variable][value])/conditional_to_count[conditional]\n",
    "      else:\n",
    "          # there are no parents\n",
    "          for value in variable_to_counts[variable]:\n",
    "              # add all of the counts for all of the values for the variable\n",
    "              total = sum(variable_to_counts[variable].values())\n",
    "              variable_to_probability[variable][value] = float(variable_to_counts[variable][value])/total\n",
    "  return variable_to_probability"
   ]
  },
  {
   "cell_type": "code",
   "execution_count": 59,
   "metadata": {
    "collapsed": true,
    "deletable": true,
    "editable": true
   },
   "outputs": [],
   "source": [
    "variable_to_probability = normalize(variables_to_parents, variable_to_counts)"
   ]
  },
  {
   "cell_type": "code",
   "execution_count": 60,
   "metadata": {
    "collapsed": false,
    "deletable": true,
    "editable": true
   },
   "outputs": [],
   "source": [
    "# E-step\n",
    "def e_step(data, var_to_prob, variables_to_parents):\n",
    "  assignment_to_curr_prob = {}\n",
    "  known_var_to_total = {}\n",
    "  variables_sorted = sorted(variables_to_parents.keys())\n",
    "  time_delay_var_index = variables_sorted.index(\"time_delay\")\n",
    "  for index, row in data.iterrows():\n",
    "    # consider all possible values of the hidden variable\n",
    "    for time_delay_val in range(NUM_TIME_DELAY_BUCKETS):\n",
    "      # determine joint probability\n",
    "      prob = 1\n",
    "      assignment = []\n",
    "      # sort the (variable, parent_list) tuples by variable name, this ensures that assigments are always in the same order\n",
    "      for (variable, parent_list) in sorted(variables_to_parents.items(), key=lambda tup: tup[0]):\n",
    "        if variable != \"time_delay\":\n",
    "          value = str(row[variable])\n",
    "        elif variable == 'time_delay':\n",
    "          value = time_delay_val\n",
    "        assignment.append(value)\n",
    "        if parent_list != []:\n",
    "          value = [value]\n",
    "          for parent in parent_list:\n",
    "              if parent != \"time_delay\":\n",
    "                value.append(str(row[parent]))\n",
    "              elif parent == \"time_delay\":\n",
    "                value.append(time_delay_val)\n",
    "          value = tuple(value)\n",
    "        prob *= var_to_prob[variable][value]\n",
    "      # add the joint probability to the map of assigments\n",
    "      known_vars = assignment[:time_delay_var_index]\n",
    "      known_vars.extend(assignment[time_delay_var_index+1:])\n",
    "      known_vars = tuple(known_vars)\n",
    "      known_var_to_total[known_vars] = known_var_to_total.get(known_vars, 0) + prob\n",
    "      assignment = tuple(assignment)\n",
    "      assignment_to_curr_prob[assignment] = prob\n",
    "  # now I need to normalize the probabilities\n",
    "  assigment_to_norm_prob = {}\n",
    "  for (assignment, prob) in assignment_to_curr_prob.items():\n",
    "    known_vars = list(assignment[:time_delay_var_index])\n",
    "    known_vars.extend(assignment[time_delay_var_index+1:])\n",
    "    known_vars = tuple(known_vars)\n",
    "    total = known_var_to_total[known_vars] \n",
    "    assigment_to_norm_prob[assignment] = float(prob) / total\n",
    "  return assigment_to_norm_prob"
   ]
  },
  {
   "cell_type": "code",
   "execution_count": 61,
   "metadata": {
    "collapsed": true,
    "deletable": true,
    "editable": true
   },
   "outputs": [],
   "source": [
    "def initialize_counts(variables_to_parents, smoothing_constant, bayes_data):\n",
    "  variable_to_counts = {}\n",
    "  for var in variables_to_parents:\n",
    "    if len(variables_to_parents[var]) == 0:\n",
    "        variable_to_counts[var] = {key:smoothing_constant for key in np.unique(bayes_data[var].astype(str).unique())}\n",
    "  variable_to_counts['time_delay'] = {(time_delay, month, day_of_week, sch_departure):smoothing_constant\n",
    "                                    for time_delay in range(NUM_TIME_DELAY_BUCKETS)\n",
    "                                    for month in bayes_data['MONTH'].astype(str).unique()\n",
    "                                    for day_of_week in bayes_data['DAY_OF_WEEK'].astype(str).unique()\n",
    "                                    for sch_departure in bayes_data['SCHEDULED_DEPARTURE'].astype(str).unique()}\n",
    "  variable_to_counts['ARRIVAL_DELAY'] = {(arrival_delay, time_delay, airline, dest_airport):smoothing_constant\n",
    "                                      for arrival_delay in bayes_data['ARRIVAL_DELAY'].astype(str).unique()\n",
    "                                      for time_delay in range(NUM_TIME_DELAY_BUCKETS)\n",
    "                                      for airline in bayes_data['AIRLINE'].astype(str).unique()\n",
    "                                      for dest_airport in bayes_data['DESTINATION_AIRPORT'].astype(str).unique()}\n",
    "                                      # for airplane_delay in range(NUM_AIRPLANE_DELAY_BUCKETS)}\n",
    "  return variable_to_counts"
   ]
  },
  {
   "cell_type": "code",
   "execution_count": 62,
   "metadata": {
    "collapsed": true,
    "deletable": true,
    "editable": true
   },
   "outputs": [],
   "source": [
    "def m_step(assignment_to_prob, variables_to_parents, smoothing_constant, bayes_data):\n",
    "  variables_sorted = sorted(variables_to_parents.keys())\n",
    "  # need way of translating assignment index to variable value\n",
    "  variable_to_assigment_index = {variables_sorted[i]:i for i in range(len(variables_sorted))}\n",
    "  # initialize the new counts map\n",
    "  variable_to_counts = initialize_counts(variables_to_parents,smoothing_constant, bayes_data)\n",
    "  # for every assignment, add the value of its variables to the counts\n",
    "  for (assignment, weight) in assignment_to_prob.items():\n",
    "    for (variable, parent_list) in variables_to_parents.items():\n",
    "      value = assignment[variable_to_assigment_index[variable]]\n",
    "      if parent_list != []:\n",
    "        value = [value]\n",
    "        for parent in parent_list:\n",
    "           value.append(assignment[variable_to_assigment_index[parent]])\n",
    "        value = tuple(value)\n",
    "      variable_to_counts[variable][value] += weight\n",
    "  # normalize\n",
    "  variable_to_prob = normalize(variables_to_parents, variable_to_counts)\n",
    "  return variable_to_prob"
   ]
  },
  {
   "cell_type": "code",
   "execution_count": 63,
   "metadata": {
    "collapsed": false,
    "deletable": true,
    "editable": true
   },
   "outputs": [],
   "source": [
    "def EM_learning(bayes_data, variable_to_probability, variable_to_parents, epsilon):\n",
    "  greaterThanEpsilon = True\n",
    "  iteration = 0\n",
    "  old_var_to_prob = variable_to_probability\n",
    "  while greaterThanEpsilon and iteration < 50:\n",
    "    assigment_to_norm_prob = e_step(bayes_data, old_var_to_prob, variable_to_parents)\n",
    "    updated_var_to_prob = m_step(assigment_to_norm_prob, variable_to_parents, .0001, bayes_data)\n",
    "    # determine if we've converged\n",
    "    # for us, convergence happens if all of the unknown thetas change by less than epsilon\n",
    "    # right now, unknown thetas are probabilities of time_delay\n",
    "    greaterThanEpsilon = False\n",
    "    for value in old_var_to_prob['time_delay']:\n",
    "      diff = abs(old_var_to_prob['time_delay'][value] - updated_var_to_prob['time_delay'][value])\n",
    "      if diff > epsilon:\n",
    "        greaterThanEpsilon = True\n",
    "        break\n",
    "    iteration += 1\n",
    "    print('iteration: {} diff: {}'.format(iteration, diff))\n",
    "    print(updated_var_to_prob['time_delay'][(1, '7', '1', '13')])\n",
    "    old_var_to_prob = updated_var_to_prob\n",
    "  return updated_var_to_prob"
   ]
  },
  {
   "cell_type": "code",
   "execution_count": 64,
   "metadata": {
    "collapsed": false,
    "deletable": true,
    "editable": true
   },
   "outputs": [
    {
     "name": "stdout",
     "output_type": "stream",
     "text": [
      "iteration: 1 diff: 0.00302125381271\n",
      "0.203021253813\n",
      "iteration: 2 diff: 0.00166122055899\n",
      "0.204682474372\n",
      "iteration: 3 diff: 0.00845405650283\n",
      "0.204825931815\n",
      "iteration: 4 diff: 0.00983197021073\n",
      "0.203550195371\n",
      "iteration: 5 diff: 0.00256562123833\n",
      "0.200984574133\n",
      "iteration: 6 diff: 0.00369390636499\n",
      "0.197290667768\n",
      "iteration: 7 diff: 0.00463614003272\n",
      "0.192654527735\n",
      "iteration: 8 diff: 0.00537967911829\n",
      "0.187274848617\n",
      "iteration: 9 diff: 0.0059235622002\n",
      "0.181351286416\n",
      "iteration: 10 diff: 0.0062758017821\n",
      "0.175075484634\n",
      "iteration: 11 diff: 0.00644999627553\n",
      "0.168625488359\n",
      "iteration: 12 diff: 0.00646298358637\n",
      "0.162162504772\n",
      "iteration: 13 diff: 0.00633429377429\n",
      "0.155828210998\n",
      "iteration: 14 diff: 0.00608670488032\n",
      "0.149741506118\n",
      "iteration: 15 diff: 0.00574654271574\n",
      "0.143994963402\n",
      "iteration: 16 diff: 0.00534279454233\n",
      "0.13865216886\n",
      "iteration: 17 diff: 0.00490495895181\n",
      "0.133747209908\n",
      "iteration: 18 diff: 0.0044602244765\n",
      "0.129286985431\n",
      "iteration: 19 diff: 0.00403084389037\n",
      "0.125256141541\n",
      "iteration: 20 diff: 0.00363243666859\n",
      "0.121623704872\n",
      "iteration: 21 diff: 0.00327348451318\n",
      "0.118350220359\n",
      "iteration: 22 diff: 0.00295601343318\n",
      "0.115394206926\n",
      "iteration: 23 diff: 0.0026773928944\n",
      "0.112716814032\n",
      "iteration: 24 diff: 0.00243230858213\n",
      "0.110284505449\n",
      "iteration: 25 diff: 0.00221422838539\n",
      "0.108070277064\n",
      "iteration: 26 diff: 0.00201650565429\n",
      "0.10605377141\n",
      "iteration: 27 diff: 0.00183319606079\n",
      "0.104220575349\n",
      "iteration: 28 diff: 0.00165959801453\n",
      "0.102560977334\n",
      "iteration: 29 diff: 0.00193956796099\n",
      "0.101068511911\n",
      "iteration: 30 diff: 0.00167928319899\n",
      "0.0997385214554\n",
      "iteration: 31 diff: 0.00207564255143\n",
      "0.0985669264026\n",
      "iteration: 32 diff: 0.00187285726702\n",
      "0.097549393636\n",
      "iteration: 33 diff: 0.00171427505415\n",
      "0.0966808812279\n",
      "iteration: 34 diff: 0.00159929267063\n",
      "0.0959554875934\n",
      "iteration: 35 diff: 0.00152666585914\n",
      "0.095366540004\n",
      "iteration: 36 diff: 0.00366279167926\n",
      "0.094906831646\n",
      "iteration: 37 diff: 0.00347651383529\n",
      "0.0945689052852\n",
      "iteration: 38 diff: 0.0015340275702\n",
      "0.0943452717732\n",
      "iteration: 39 diff: 0.00159562092711\n",
      "0.0942284739819\n",
      "iteration: 40 diff: 0.00167614850456\n",
      "0.0942110714451\n",
      "iteration: 41 diff: 0.00176873005321\n",
      "0.0942856436755\n",
      "iteration: 42 diff: 0.00186742053511\n",
      "0.0944448048515\n",
      "iteration: 43 diff: 0.00196771368525\n",
      "0.0946812075246\n",
      "iteration: 44 diff: 0.00206649504345\n",
      "0.0949875452392\n",
      "iteration: 45 diff: 0.00216167883643\n",
      "0.0953566037765\n",
      "iteration: 46 diff: 0.00225177732891\n",
      "0.0957814370259\n",
      "iteration: 47 diff: 0.00233559226528\n",
      "0.0962555044379\n",
      "iteration: 48 diff: 0.00241202524464\n",
      "0.0967726987363\n",
      "iteration: 49 diff: 0.00248003700023\n",
      "0.0973273317209\n",
      "iteration: 50 diff: 0.00253884141205\n",
      "0.0979140484924\n"
     ]
    }
   ],
   "source": [
    "final_var_to_prob = EM_learning(bayes_data, variable_to_probability, variables_to_parents, 0.0015)"
   ]
  },
  {
   "cell_type": "code",
   "execution_count": 65,
   "metadata": {
    "collapsed": true,
    "deletable": true,
    "editable": true
   },
   "outputs": [],
   "source": [
    "from sklearn import metrics\n",
    "from sklearn.metrics import confusion_matrix"
   ]
  },
  {
   "cell_type": "code",
   "execution_count": 66,
   "metadata": {
    "collapsed": true
   },
   "outputs": [],
   "source": [
    "flights_data_test = bucket.item('model-test.csv')\n",
    "uri = flights_data_test.uri\n",
    "%gcs read --object $uri --variable data\n",
    "test_data = pd.read_csv(BytesIO(data))\n",
    "true_labels = test_data[['ARRIVAL_DELAY']].values"
   ]
  },
  {
   "cell_type": "code",
   "execution_count": 116,
   "metadata": {
    "collapsed": false
   },
   "outputs": [
    {
     "name": "stdout",
     "output_type": "stream",
     "text": [
      "0.307805919526\n",
      "('0.0', 0, 'OO', 'CVG')\n",
      "0.586935925353\n",
      "('0.0', 1, 'OO', 'CVG')\n",
      "0.125829350326\n",
      "('0.0', 2, 'OO', 'CVG')\n",
      "0.188332394033\n",
      "('0.0', 3, 'OO', 'CVG')\n",
      "0.208607427004\n",
      "('0.0', 4, 'OO', 'CVG')\n",
      "0.334226052116\n",
      "('1.0', 0, 'OO', 'CVG')\n",
      "0.10064125512\n",
      "('1.0', 1, 'OO', 'CVG')\n",
      "0.493329487873\n",
      "('1.0', 2, 'OO', 'CVG')\n",
      "0.673225806132\n",
      "('1.0', 3, 'OO', 'CVG')\n",
      "0.333439497508\n",
      "('1.0', 4, 'OO', 'CVG')\n",
      "0.357968028357\n",
      "('2.0', 0, 'OO', 'CVG')\n",
      "0.312422819527\n",
      "('2.0', 1, 'OO', 'CVG')\n",
      "0.380841161801\n",
      "('2.0', 2, 'OO', 'CVG')\n",
      "0.138441799835\n",
      "('2.0', 3, 'OO', 'CVG')\n",
      "0.457953075488\n",
      "('2.0', 4, 'OO', 'CVG')\n"
     ]
    }
   ],
   "source": [
    "# test 1\n",
    "guessed_labels = []\n",
    "for index, row in test_data.iterrows():\n",
    "  max_prob = 0\n",
    "  max_val = -1\n",
    "  for arrival_delay_val in range(3): # arrival delay can be 0, 1 or 2\n",
    "    for time_delay_val in range(NUM_TIME_DELAY_BUCKETS):\n",
    "      parent_list = variables_to_parents['ARRIVAL_DELAY']\n",
    "      value = str(float(arrival_delay_val))\n",
    "      value = [value]\n",
    "      for parent in parent_list:\n",
    "        if parent == 'time_delay':\n",
    "          value.append(time_delay_val)\n",
    "        else:\n",
    "          value.append(str(row[parent]))\n",
    "      value = tuple(value)\n",
    "      prob = final_var_to_prob['ARRIVAL_DELAY'].get(value, .00000000000001)\n",
    "      if prob > max_prob:\n",
    "        max_prob = prob\n",
    "        max_val = arrival_delay_val  \n",
    "  guessed_labels.append(max_val)"
   ]
  },
  {
   "cell_type": "code",
   "execution_count": 112,
   "metadata": {
    "collapsed": false
   },
   "outputs": [],
   "source": [
    "# test 2\n",
    "guessed_labels = []\n",
    "for index, row in test_data.iterrows():\n",
    "  prob = 0\n",
    "  max_val = 0\n",
    "  for time_delay_val in range(NUM_TIME_DELAY_BUCKETS):\n",
    "    parent_list = variables_to_parents['time_delay']\n",
    "    value = time_delay_val\n",
    "    value = [value]\n",
    "    for parent in parent_list:\n",
    "      value.append(str(row[parent]))\n",
    "    value = tuple(value)\n",
    "    prob = final_var_to_prob['time_delay'].get(value, .00000000000001)\n",
    "    if prob > max_prob:\n",
    "      max_prob = prob\n",
    "      max_val = arrival_delay_val    \n",
    "  time_delay_val = max_val\n",
    "  max_prob = 0\n",
    "  max_val = -1\n",
    "  for arrival_delay_val in range(3): # arrival delay can be 0, 1 or 2\n",
    "    parent_list = variables_to_parents['ARRIVAL_DELAY']\n",
    "    value = str(float(arrival_delay_val))\n",
    "    value = [value]\n",
    "    for parent in parent_list:\n",
    "      if parent == 'time_delay':\n",
    "        value.append(time_delay_val)\n",
    "      else:\n",
    "        value.append(str(row[parent]))\n",
    "    value = tuple(value)\n",
    "    prob = final_var_to_prob['ARRIVAL_DELAY'].get(value, .00000000000001)\n",
    "    if prob > max_prob:\n",
    "      max_prob = prob\n",
    "      max_val = arrival_delay_val    \n",
    "  guessed_labels.append(max_val)"
   ]
  },
  {
   "cell_type": "code",
   "execution_count": 113,
   "metadata": {
    "collapsed": false
   },
   "outputs": [
    {
     "name": "stdout",
     "output_type": "stream",
     "text": [
      "17700\n",
      "baseline test acc: 0.3463276836158192\n",
      "baseline precision: 0.3426955702167766\n"
     ]
    }
   ],
   "source": [
    "lr_test_acc = metrics.accuracy_score(true_labels, guessed_labels)\n",
    "pred_y_test = [1 if guessed_labels[i] > 1 else 0 for i in range(len(guessed_labels))]\n",
    "test_y_binarized = [1 if true_labels[i][0] > 1 else 0 for i in range(len(true_labels))]\n",
    "print (len(test_y_binarized))\n",
    "print ('baseline test acc: ' + str(lr_test_acc))\n",
    "print ('baseline precision: ' + str(metrics.precision_score(test_y_binarized, pred_y_test)))"
   ]
  },
  {
   "cell_type": "code",
   "execution_count": 114,
   "metadata": {
    "collapsed": false
   },
   "outputs": [
    {
     "name": "stdout",
     "output_type": "stream",
     "text": [
      "[[0.]\n",
      " [1.]\n",
      " [1.]\n",
      " [0.]\n",
      " [2.]]\n",
      "[2, 0, 1, 0, 2]\n"
     ]
    }
   ],
   "source": [
    "print(true_labels[:5])\n",
    "print(guessed_labels[:5])"
   ]
  },
  {
   "cell_type": "code",
   "execution_count": 115,
   "metadata": {
    "collapsed": true
   },
   "outputs": [],
   "source": [
    "import cPickle as pickle\n",
    "\n",
    "json = pickle.dumps(final_var_to_prob)\n",
    "bucket.item('hidden_time_var.txt').write_to(json,'text/txt')"
   ]
  },
  {
   "cell_type": "code",
   "execution_count": null,
   "metadata": {
    "collapsed": true
   },
   "outputs": [],
   "source": []
  }
 ],
 "metadata": {
  "kernelspec": {
   "display_name": "Python 2",
   "language": "python",
   "name": "python2"
  }
 },
 "nbformat": 4,
 "nbformat_minor": 2
}
