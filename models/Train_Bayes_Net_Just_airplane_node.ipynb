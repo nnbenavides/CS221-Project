{
 "cells": [
  {
   "cell_type": "code",
   "execution_count": 70,
   "metadata": {
    "collapsed": true,
    "deletable": true,
    "editable": true
   },
   "outputs": [],
   "source": [
    "import datalab.storage as storage\n",
    "import pandas as pd\n",
    "from io import BytesIO\n",
    "import numpy as np\n",
    "import random\n",
    "import json"
   ]
  },
  {
   "cell_type": "code",
   "execution_count": 16,
   "metadata": {
    "collapsed": true,
    "deletable": true,
    "editable": true
   },
   "outputs": [],
   "source": [
    "bucket = storage.Bucket('cs221-flight-data')\n",
    "flights_data = bucket.item('model-train.csv')\n",
    "uri = flights_data.uri\n",
    "%gcs read --object $uri --variable data\n",
    "bayes_data = pd.read_csv(BytesIO(data))"
   ]
  },
  {
   "cell_type": "code",
   "execution_count": 17,
   "metadata": {
    "collapsed": true,
    "deletable": true,
    "editable": true
   },
   "outputs": [],
   "source": [
    "# CONSTANTS\n",
    "NUM_TIME_DELAY_BUCKETS = 5\n",
    "NUM_AIRPLANE_DELAY_BUCKETS = 5\n",
    "la_place_constant = 1\n",
    "\n",
    "# map the variables to their parents\n",
    "variables_to_parents = {}\n",
    "# variables_to_parents['MONTH'] = []\n",
    "# variables_to_parents['DAY_OF_WEEK'] = []\n",
    "# variables_to_parents['SCHEDULED_DEPARTURE'] = []\n",
    "# variables_to_parents['time_delay'] = ['MONTH', 'DAY_OF_WEEK', 'SCHEDULED_DEPARTURE']\n",
    "variables_to_parents['AIRLINE'] = []\n",
    "variables_to_parents['DESTINATION_AIRPORT'] = []\n",
    "variables_to_parents['YEAR'] = [] # year is the year of the airplane make NOT the year that the flight departs\n",
    "variables_to_parents['MODEL'] = []\n",
    "variables_to_parents['airplane_delay'] = ['YEAR', 'MODEL']\n",
    "# variables_to_parents['ARRIVAL_DELAY'] = ['time_delay', 'AIRLINE', 'DESTINATION_AIRPORT', 'airplane_delay']\n",
    "variables_to_parents['ARRIVAL_DELAY'] = ['airplane_delay', 'AIRLINE', 'DESTINATION_AIRPORT']\n"
   ]
  },
  {
   "cell_type": "code",
   "execution_count": 18,
   "metadata": {
    "collapsed": false,
    "deletable": true,
    "editable": true
   },
   "outputs": [],
   "source": [
    "# initialize the counts\n",
    "variable_to_counts = {}\n",
    "# these variables don't have parent variables\n",
    "for var in variables_to_parents:\n",
    "    if len(variables_to_parents[var]) == 0:\n",
    "        variable_to_counts[var] = {key:la_place_constant for key in np.unique(bayes_data[var].astype(str).unique())}\n",
    "\n",
    "variable_to_counts['airplane_delay'] = {(airplane_delay, year, model):random.randint(1,3)\n",
    "                                       for airplane_delay in range(NUM_AIRPLANE_DELAY_BUCKETS)\n",
    "                                       for year in bayes_data['YEAR'].astype(str).unique()\n",
    "                                       for model in bayes_data['MODEL'].astype(str).unique()}"
   ]
  },
  {
   "cell_type": "code",
   "execution_count": 19,
   "metadata": {
    "collapsed": false,
    "deletable": true,
    "editable": true
   },
   "outputs": [],
   "source": [
    "# add the variable with parent variables\n",
    "# make sure that the order of the tuple is the same order as the parent list\n",
    "#variable_to_counts['time_delay'] = {(time_delay, month, day_of_week, sch_departure):random.randint(1,3)\n",
    " #                                   for time_delay in range(NUM_TIME_DELAY_BUCKETS)\n",
    "  #                                  for month in bayes_data['MONTH'].astype(str).unique()\n",
    "   #                                 for day_of_week in bayes_data['DAY_OF_WEEK'].astype(str).unique()\n",
    "    #                                for sch_departure in bayes_data['SCHEDULED_DEPARTURE'].astype(str).unique()}"
   ]
  },
  {
   "cell_type": "code",
   "execution_count": 20,
   "metadata": {
    "collapsed": false,
    "deletable": true,
    "editable": true
   },
   "outputs": [],
   "source": [
    "# add the variable with parent variables\n",
    "# make sure that the order of the tuple is the same order as the parent list\n",
    "variable_to_counts['ARRIVAL_DELAY'] = {(arrival_delay, airplane_delay, airline, dest_airport):la_place_constant\n",
    "                                      for arrival_delay in bayes_data['ARRIVAL_DELAY'].astype(str).unique()\n",
    "                                      for airplane_delay in range(NUM_AIRPLANE_DELAY_BUCKETS)\n",
    "                                      for airline in bayes_data['AIRLINE'].astype(str).unique()\n",
    "                                      for dest_airport in bayes_data['DESTINATION_AIRPORT'].astype(str).unique()}\n",
    "                                      # for airplane_delay in range(NUM_AIRPLANE_DELAY_BUCKETS)}"
   ]
  },
  {
   "cell_type": "code",
   "execution_count": 21,
   "metadata": {
    "collapsed": false,
    "deletable": true,
    "editable": true
   },
   "outputs": [],
   "source": [
    "# count to get the probabilities for the quantities that we DO know\n",
    "for index, row in bayes_data.iterrows():\n",
    "    for (variable, parent_list) in variables_to_parents.items():\n",
    "        if variable != \"airplane_delay\":\n",
    "          # need to make tuple of value with their parent(conditional) values\n",
    "          value = str(row[variable])\n",
    "          if parent_list != []:\n",
    "            value = [value]\n",
    "            for parent in parent_list:\n",
    "              if parent != \"airplane_delay\":\n",
    "                value.append(str(row[parent]))\n",
    "              elif parent == \"airplane_delay\":\n",
    "                value.append(random.randint(0, NUM_AIRPLANE_DELAY_BUCKETS-1))\n",
    "            value = tuple(value)\n",
    "          # increase the count\n",
    "          variable_to_counts[variable][value] += 1"
   ]
  },
  {
   "cell_type": "code",
   "execution_count": 22,
   "metadata": {
    "collapsed": false,
    "deletable": true,
    "editable": true
   },
   "outputs": [],
   "source": [
    "# once the counts are initialized, need to normalize the probabilities \n",
    "def normalize(variables_to_parents, variable_to_counts):\n",
    "  variable_to_probability = {}\n",
    "  for variable in variable_to_counts:\n",
    "      variable_to_probability[variable] = {}\n",
    "      if len(variables_to_parents[variable]) > 0:\n",
    "          # then we need to do some fun tuple stuff because the conditionals are what is constant\n",
    "          conditional_to_count = {}\n",
    "          for value in variable_to_counts[variable]:\n",
    "              conditional = value[1:]\n",
    "              conditional_to_count[conditional] = conditional_to_count.get(conditional, 0) + variable_to_counts[variable][value]\n",
    "          # now actually get the percentage\n",
    "          for value in variable_to_counts[variable]:\n",
    "              conditional = value[1:]\n",
    "              variable_to_probability[variable][value] = float(variable_to_counts[variable][value])/conditional_to_count[conditional]\n",
    "      else:\n",
    "          # there are no parents\n",
    "          for value in variable_to_counts[variable]:\n",
    "              # add all of the counts for all of the values for the variable\n",
    "              total = sum(variable_to_counts[variable].values())\n",
    "              variable_to_probability[variable][value] = float(variable_to_counts[variable][value])/total\n",
    "  return variable_to_probability"
   ]
  },
  {
   "cell_type": "code",
   "execution_count": 23,
   "metadata": {
    "collapsed": true,
    "deletable": true,
    "editable": true
   },
   "outputs": [],
   "source": [
    "variable_to_probability = normalize(variables_to_parents, variable_to_counts)"
   ]
  },
  {
   "cell_type": "code",
   "execution_count": 24,
   "metadata": {
    "collapsed": false,
    "deletable": true,
    "editable": true
   },
   "outputs": [],
   "source": [
    "# E-step\n",
    "def e_step(data, var_to_prob, variables_to_parents):\n",
    "  assignment_to_curr_prob = {}\n",
    "  known_var_to_total = {}\n",
    "  variables_sorted = sorted(variables_to_parents.keys())\n",
    "  airplane_delay_var_index = variables_sorted.index(\"airplane_delay\")\n",
    "  for index, row in data.iterrows():\n",
    "    # consider all possible values of the hidden variable\n",
    "    for airplane_delay_val in range(NUM_AIRPLANE_DELAY_BUCKETS):\n",
    "      # determine joint probability\n",
    "      prob = 1\n",
    "      assignment = []\n",
    "      # sort the (variable, parent_list) tuples by variable name, this ensures that assigments are always in the same order\n",
    "      for (variable, parent_list) in sorted(variables_to_parents.items(), key=lambda tup: tup[0]):\n",
    "        if variable != \"airplane_delay\":\n",
    "          value = str(row[variable])\n",
    "        elif variable == 'airplane_delay':\n",
    "          value = airplane_delay_val\n",
    "        assignment.append(value)\n",
    "        if parent_list != []:\n",
    "          value = [value]\n",
    "          for parent in parent_list:\n",
    "              if parent != \"airplane_delay\":\n",
    "                value.append(str(row[parent]))\n",
    "              elif parent == \"airplane_delay\":\n",
    "                value.append(airplane_delay_val)\n",
    "          value = tuple(value)\n",
    "        prob *= var_to_prob[variable][value]\n",
    "      # add the joint probability to the map of assigments\n",
    "      known_vars = assignment[:airplane_delay_var_index]\n",
    "      known_vars.extend(assignment[airplane_delay_var_index+1:])\n",
    "      known_vars = tuple(known_vars)\n",
    "      known_var_to_total[known_vars] = known_var_to_total.get(known_vars, 0) + prob\n",
    "      assignment = tuple(assignment)\n",
    "      assignment_to_curr_prob[assignment] = prob\n",
    "  # now I need to normalize the probabilities\n",
    "  assigment_to_norm_prob = {}\n",
    "  for (assignment, prob) in assignment_to_curr_prob.items():\n",
    "    known_vars = list(assignment[:airplane_delay_var_index])\n",
    "    known_vars.extend(assignment[airplane_delay_var_index+1:])\n",
    "    known_vars = tuple(known_vars)\n",
    "    total = known_var_to_total[known_vars] \n",
    "    assigment_to_norm_prob[assignment] = float(prob) / total\n",
    "  return assigment_to_norm_prob"
   ]
  },
  {
   "cell_type": "code",
   "execution_count": 25,
   "metadata": {
    "collapsed": true,
    "deletable": true,
    "editable": true
   },
   "outputs": [],
   "source": [
    "def initialize_counts(variables_to_parents, smoothing_constant, bayes_data):\n",
    "  variable_to_counts = {}\n",
    "  for var in variables_to_parents:\n",
    "    if len(variables_to_parents[var]) == 0:\n",
    "        variable_to_counts[var] = {key:smoothing_constant for key in np.unique(bayes_data[var].astype(str).unique())}\n",
    " # variable_to_counts['time_delay'] = {(time_delay, month, day_of_week, sch_departure):smoothing_constant\n",
    "  #                                  for time_delay in range(NUM_TIME_DELAY_BUCKETS)\n",
    "   #                                 for month in bayes_data['MONTH'].astype(str).unique()\n",
    "    #                                for day_of_week in bayes_data['DAY_OF_WEEK'].astype(str).unique()\n",
    "     #                               for sch_departure in bayes_data['SCHEDULED_DEPARTURE'].astype(str).unique()}\n",
    "  variable_to_counts['airplane_delay'] = {(airplane_delay, year, model):smoothing_constant\n",
    "                                       for airplane_delay in range(NUM_AIRPLANE_DELAY_BUCKETS)\n",
    "                                       for year in bayes_data['YEAR'].astype(str).unique()\n",
    "                                       for model in bayes_data['MODEL'].astype(str).unique()}\n",
    "  variable_to_counts['ARRIVAL_DELAY'] = {(arrival_delay, airplane_delay, airline, dest_airport):smoothing_constant\n",
    "                                      for arrival_delay in bayes_data['ARRIVAL_DELAY'].astype(str).unique()\n",
    "                                      for airplane_delay in range(NUM_AIRPLANE_DELAY_BUCKETS)\n",
    "                                      for airline in bayes_data['AIRLINE'].astype(str).unique()\n",
    "                                      for dest_airport in bayes_data['DESTINATION_AIRPORT'].astype(str).unique()}\n",
    "                                      # for airplane_delay in range(NUM_AIRPLANE_DELAY_BUCKETS)}\n",
    "  return variable_to_counts"
   ]
  },
  {
   "cell_type": "code",
   "execution_count": 26,
   "metadata": {
    "collapsed": true,
    "deletable": true,
    "editable": true
   },
   "outputs": [],
   "source": [
    "def m_step(assignment_to_prob, variables_to_parents, smoothing_constant, bayes_data):\n",
    "  variables_sorted = sorted(variables_to_parents.keys())\n",
    "  # need way of translating assignment index to variable value\n",
    "  variable_to_assigment_index = {variables_sorted[i]:i for i in range(len(variables_sorted))}\n",
    "  # initialize the new counts map\n",
    "  variable_to_counts = initialize_counts(variables_to_parents,smoothing_constant, bayes_data)\n",
    "  # for every assignment, add the value of its variables to the counts\n",
    "  for (assignment, weight) in assignment_to_prob.items():\n",
    "    for (variable, parent_list) in variables_to_parents.items():\n",
    "      value = assignment[variable_to_assigment_index[variable]]\n",
    "      if parent_list != []:\n",
    "        value = [value]\n",
    "        for parent in parent_list:\n",
    "           value.append(assignment[variable_to_assigment_index[parent]])\n",
    "        value = tuple(value)\n",
    "      variable_to_counts[variable][value] += weight\n",
    "  # normalize\n",
    "  variable_to_prob = normalize(variables_to_parents, variable_to_counts)\n",
    "  return variable_to_prob"
   ]
  },
  {
   "cell_type": "code",
   "execution_count": 27,
   "metadata": {
    "collapsed": false,
    "deletable": true,
    "editable": true
   },
   "outputs": [],
   "source": [
    "def EM_learning(bayes_data, variable_to_probability, variable_to_parents, epsilon):\n",
    "  greaterThanEpsilon = True\n",
    "  iteration = 0\n",
    "  old_var_to_prob = variable_to_probability\n",
    "  while greaterThanEpsilon and iteration < 50:\n",
    "    assigment_to_norm_prob = e_step(bayes_data, old_var_to_prob, variable_to_parents)\n",
    "    updated_var_to_prob = m_step(assigment_to_norm_prob, variable_to_parents, .0001, bayes_data)\n",
    "    # determine if we've converged\n",
    "    # for us, convergence happens if all of the unknown thetas change by less than epsilon\n",
    "    # right now, unknown thetas are probabilities of airplane_delay\n",
    "    greaterThanEpsilon = False\n",
    "    for value in old_var_to_prob['airplane_delay']:\n",
    "      diff = abs(old_var_to_prob['airplane_delay'][value] - updated_var_to_prob['airplane_delay'][value])\n",
    "      if diff > epsilon:\n",
    "        greaterThanEpsilon = True\n",
    "        break\n",
    "    iteration += 1\n",
    "    print('iteration: {} diff: {}'.format(iteration, diff))\n",
    "    # print(updated_var_to_prob['airplane_delay'][(1, '7', '1', '13')])\n",
    "    old_var_to_prob = updated_var_to_prob\n",
    "  return updated_var_to_prob"
   ]
  },
  {
   "cell_type": "code",
   "execution_count": 28,
   "metadata": {
    "collapsed": false,
    "deletable": true,
    "editable": true
   },
   "outputs": [
    {
     "name": "stdout",
     "output_type": "stream",
     "text": [
      "iteration: 1 diff: 0.0333333333333\n",
      "iteration: 2 diff: 0.00688405302904\n",
      "iteration: 3 diff: 0.0115857843951\n",
      "iteration: 4 diff: 0.0154422039364\n",
      "iteration: 5 diff: 0.0181108223232\n",
      "iteration: 6 diff: 0.0191797935813\n",
      "iteration: 7 diff: 0.0184238501325\n",
      "iteration: 8 diff: 0.0160723201501\n",
      "iteration: 9 diff: 0.0128311415751\n",
      "iteration: 10 diff: 0.00954714367454\n",
      "iteration: 11 diff: 0.00679893193202\n",
      "iteration: 12 diff: 0.00476370496038\n",
      "iteration: 13 diff: 0.00335416828089\n",
      "iteration: 14 diff: 0.0024004242348\n",
      "iteration: 15 diff: 0.00175058754016\n",
      "iteration: 16 diff: 0.0267188721701\n",
      "iteration: 17 diff: 0.025043117341\n",
      "iteration: 18 diff: 0.0235134105788\n",
      "iteration: 19 diff: 0.0221415098463\n",
      "iteration: 20 diff: 0.0208970110396\n",
      "iteration: 21 diff: 0.0197361339986\n",
      "iteration: 22 diff: 0.0186191193018\n",
      "iteration: 23 diff: 0.0175197245567\n",
      "iteration: 24 diff: 0.0164276665367\n",
      "iteration: 25 diff: 0.0153451099256\n",
      "iteration: 26 diff: 0.0142813788297\n",
      "iteration: 27 diff: 0.0132485420676\n",
      "iteration: 28 diff: 0.012257352065\n",
      "iteration: 29 diff: 0.0113144707183\n",
      "iteration: 30 diff: 0.0104221808132\n",
      "iteration: 31 diff: 0.00957990917949\n",
      "iteration: 32 diff: 0.00878622973609\n",
      "iteration: 33 diff: 0.00804044097853\n",
      "iteration: 34 diff: 0.0073431145839\n",
      "iteration: 35 diff: 0.00669445939535\n",
      "iteration: 36 diff: 0.00608944045386\n",
      "iteration: 37 diff: 0.00551668986555\n",
      "iteration: 38 diff: 0.00497178279388\n",
      "iteration: 39 diff: 0.00446312326513\n",
      "iteration: 40 diff: 0.00399909904803\n",
      "iteration: 41 diff: 0.00358191278176\n",
      "iteration: 42 diff: 0.00321011871042\n",
      "iteration: 43 diff: 0.0028811623364\n",
      "iteration: 44 diff: 0.00259239612637\n",
      "iteration: 45 diff: 0.00234143333672\n",
      "iteration: 46 diff: 0.00212633207344\n",
      "iteration: 47 diff: 0.00194573969795\n",
      "iteration: 48 diff: 0.00179900681065\n",
      "iteration: 49 diff: 0.00168624403596\n",
      "iteration: 50 diff: 0.00160827085598\n"
     ]
    }
   ],
   "source": [
    "final_var_to_prob = EM_learning(bayes_data, variable_to_probability, variables_to_parents, 0.0015)"
   ]
  },
  {
   "cell_type": "code",
   "execution_count": 29,
   "metadata": {
    "collapsed": true,
    "deletable": true,
    "editable": true
   },
   "outputs": [],
   "source": [
    "from sklearn import metrics\n",
    "from sklearn.metrics import confusion_matrix"
   ]
  },
  {
   "cell_type": "code",
   "execution_count": 30,
   "metadata": {
    "collapsed": true
   },
   "outputs": [],
   "source": [
    "flights_data_test = bucket.item('model-test.csv')\n",
    "uri = flights_data_test.uri\n",
    "%gcs read --object $uri --variable data\n",
    "test_data = pd.read_csv(BytesIO(data))\n",
    "true_labels = test_data[['ARRIVAL_DELAY']].values"
   ]
  },
  {
   "cell_type": "code",
   "execution_count": 67,
   "metadata": {
    "collapsed": false
   },
   "outputs": [],
   "source": [
    "guessed_labels = []\n",
    "for index, row in test_data.iterrows():\n",
    "  prob = 1\n",
    "  max_prob = 0\n",
    "  max_val = -1\n",
    "  for airplane_delay_val in range(NUM_AIRPLANE_DELAY_BUCKETS):\n",
    "    parent_list = variables_to_parents['airplane_delay']\n",
    "    value = airplane_delay_val\n",
    "    value = [value]\n",
    "    for parent in parent_list:\n",
    "      value.append(str(row[parent]))\n",
    "    value = tuple(value)\n",
    "    prob = final_var_to_prob['airplane_delay'].get(value,.000000001)\n",
    "    if prob > max_prob:\n",
    "      max_prob = prob\n",
    "      max_val = arrival_delay_val\n",
    "  airplane_delay_val = max_val\n",
    "  max_prob = 0\n",
    "  max_val = -1\n",
    "  for arrival_delay_val in range(3): # arrival delay can be 0, 1 or 2\n",
    "    parent_list = variables_to_parents['ARRIVAL_DELAY']\n",
    "    value = str(float(arrival_delay_val))\n",
    "    value = [value]\n",
    "    for parent in parent_list:\n",
    "      if parent == 'airplane_delay':\n",
    "        parent = value.append(airplane_delay_val)\n",
    "      else:\n",
    "        value.append(str(row[parent]))\n",
    "    value = tuple(value)\n",
    "    prob = final_var_to_prob['ARRIVAL_DELAY'].get(value,.000000001)\n",
    "    if prob > max_prob:\n",
    "      max_prob = prob\n",
    "      max_val = arrival_delay_val\n",
    " #   print(prob)\n",
    " #   print(value)\n",
    "  guessed_labels.append(max_val)\n",
    "#  if len(guessed_labels) > 3:\n",
    " #   break"
   ]
  },
  {
   "cell_type": "code",
   "execution_count": 68,
   "metadata": {
    "collapsed": false
   },
   "outputs": [
    {
     "name": "stdout",
     "output_type": "stream",
     "text": [
      "17700\n",
      "baseline test acc: 0.3241242937853107\n",
      "baseline precision: 0.3369404820462371\n"
     ]
    }
   ],
   "source": [
    "lr_test_acc = metrics.accuracy_score(true_labels, guessed_labels)\n",
    "pred_y_test = [1 if guessed_labels[i] > 1 else 0 for i in range(len(guessed_labels))]\n",
    "test_y_binarized = [1 if true_labels[i][0] > 1 else 0 for i in range(len(true_labels))]\n",
    "print (len(test_y_binarized))\n",
    "print ('baseline test acc: ' + str(lr_test_acc))\n",
    "print ('baseline precision: ' + str(metrics.precision_score(test_y_binarized, pred_y_test)))"
   ]
  },
  {
   "cell_type": "code",
   "execution_count": 69,
   "metadata": {
    "collapsed": false
   },
   "outputs": [
    {
     "name": "stdout",
     "output_type": "stream",
     "text": [
      "[[0.]\n",
      " [1.]\n",
      " [1.]\n",
      " [0.]\n",
      " [2.]]\n",
      "[2, 0, 2, 2, 2]\n"
     ]
    }
   ],
   "source": [
    "print(true_labels[:5])\n",
    "print(guessed_labels[:5])"
   ]
  },
  {
   "cell_type": "code",
   "execution_count": 73,
   "metadata": {
    "collapsed": false
   },
   "outputs": [],
   "source": [
    "import cPickle as pickle\n",
    "\n",
    "json = pickle.dumps(final_var_to_prob)\n",
    "bucket.item('hidden_airplane_var.txt').write_to(json,'text/txt')"
   ]
  },
  {
   "cell_type": "code",
   "execution_count": null,
   "metadata": {
    "collapsed": true
   },
   "outputs": [],
   "source": []
  }
 ],
 "metadata": {
  "kernelspec": {
   "display_name": "Python 2",
   "language": "python",
   "name": "python2"
  },
  "language_info": {
   "codemirror_mode": {
    "name": "ipython",
    "version": 2
   },
   "file_extension": ".py",
   "mimetype": "text/x-python",
   "name": "python",
   "nbconvert_exporter": "python",
   "pygments_lexer": "ipython2",
   "version": "2.7.15"
  }
 },
 "nbformat": 4,
 "nbformat_minor": 2
}
