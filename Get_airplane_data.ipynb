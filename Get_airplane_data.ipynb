{
 "cells": [
  {
   "cell_type": "code",
   "execution_count": 2,
   "metadata": {},
   "outputs": [],
   "source": [
    "import datalab.storage as storage\n",
    "import pandas as pd\n",
    "from io import BytesIO\n",
    "import urllib.request\n",
    "import numpy as np"
   ]
  },
  {
   "cell_type": "code",
   "execution_count": 3,
   "metadata": {},
   "outputs": [
    {
     "name": "stderr",
     "output_type": "stream",
     "text": [
      "/usr/local/envs/py3env/lib/python3.5/site-packages/IPython/core/interactiveshell.py:2785: DtypeWarning: Columns (7,8) have mixed types. Specify dtype option on import or set low_memory=False.\n",
      "  interactivity=interactivity, compiler=compiler, result=result)\n"
     ]
    }
   ],
   "source": [
    "bucket = storage.Bucket('cs221-flight-data')\n",
    "flights_data = bucket.item('flights.csv')\n",
    "uri = flights_data.uri\n",
    "%gcs read --object $uri --variable data\n",
    "data = pd.read_csv(BytesIO(data))"
   ]
  },
  {
   "cell_type": "code",
   "execution_count": 4,
   "metadata": {
    "codeCollapsed": false,
    "hiddenCell": true
   },
   "outputs": [
    {
     "name": "stdout",
     "output_type": "stream",
     "text": [
      "done 0\n",
      "done 10000\n",
      "done 20000\n",
      "done 30000\n",
      "done 40000\n",
      "done 50000\n",
      "done 60000\n",
      "done 70000\n",
      "done 80000\n",
      "done 90000\n",
      "done 100000\n",
      "done 110000\n",
      "done 120000\n",
      "done 130000\n",
      "done 140000\n",
      "done 150000\n",
      "done 160000\n",
      "done 170000\n",
      "done 180000\n",
      "done 190000\n",
      "done 200000\n",
      "done 210000\n",
      "done 220000\n",
      "done 230000\n",
      "done 240000\n",
      "done 250000\n",
      "done 260000\n",
      "done 270000\n",
      "done 280000\n"
     ]
    }
   ],
   "source": [
    "relevant_cols = data[['ARRIVAL_DELAY', 'MONTH', 'DAY_OF_WEEK', 'AIRLINE','ORIGIN_AIRPORT', 'DESTINATION_AIRPORT','SCHEDULED_DEPARTURE', 'TAIL_NUMBER']]\n",
    "relevant_cols = relevant_cols[relevant_cols['ORIGIN_AIRPORT'] == 'ORD']\n",
    "relevant_cols = relevant_cols[relevant_cols['AIRLINE'].isin(['MQ', 'UA', 'AA', 'EV', 'OO'])]\n",
    "for row in range(relevant_cols.shape[0]):\n",
    "    if row % 10000 == 0:\n",
    "        print ('done ' + str(row))\n",
    "    delay = relevant_cols.iloc[row, 0]\n",
    "    if delay < 0:\n",
    "        relevant_cols.iloc[row, 0] = 0\n",
    "    elif delay <= 15:\n",
    "        relevant_cols.iloc[row, 0] = 1\n",
    "    else:\n",
    "        relevant_cols.iloc[row, 0] = 2\n",
    "    # bucket the departure by hour\n",
    "    relevant_cols.iloc[row, 6] = int(relevant_cols.iloc[row, 6]) // 100"
   ]
  },
  {
   "cell_type": "code",
   "execution_count": 12,
   "metadata": {},
   "outputs": [],
   "source": [
    "bucket.item('flights-limited.csv').write_to(relevant_cols.to_csv(),'text/csv')"
   ]
  },
  {
   "cell_type": "code",
   "execution_count": 9,
   "metadata": {},
   "outputs": [
    {
     "name": "stdout",
     "output_type": "stream",
     "text": [
      "4898\n"
     ]
    }
   ],
   "source": [
    "# get the flight information\n",
    "years = []\n",
    "models = []\n",
    "tail_numbers = data['TAIL_NUMBER'].values.astype(str)\n",
    "tail_numbers = np.unique(tail_numbers)\n",
    "print(len(tail_numbers))\n",
    "valid_tail_nums = []\n",
    "for tail_num in tail_numbers:\n",
    "    url = 'http://registry.faa.gov/aircraftinquiry/NNum_Results.aspx?NNumbertxt={0}'.format(tail_num)\n",
    "    with urllib.request.urlopen(url) as response:\n",
    "        html = response.read().decode('utf-8')\n",
    "        if html.find(\"<h5>Can Not Process Your Request At This Time</h5>\") == -1:\n",
    "           # then there wasn't an error\n",
    "            start_index = html.find('<span id=\"content_Label7\" class=\"Results_DataText\">')\n",
    "            length = len('<span id=\"content_Label7\" class=\"Results_DataText\">')\n",
    "            end_index = html.find(\"</span>\", start_index)\n",
    "            model = html[start_index+length:end_index]\n",
    "            start_index = html.find('<span id=\"content_Label17\" class=\"Results_DataText\">')\n",
    "            length = len('<span id=\"content_Label17\" class=\"Results_DataText\">')\n",
    "            end_index = html.find(\"</span>\", start_index)\n",
    "            year = html[start_index+length:end_index]\n",
    "            if len(year) > 0 and len(model) > 0:\n",
    "                valid_tail_nums.append(tail_num)\n",
    "                years.append(year)\n",
    "                models.append(model)"
   ]
  },
  {
   "cell_type": "code",
   "execution_count": 10,
   "metadata": {},
   "outputs": [
    {
     "name": "stdout",
     "output_type": "stream",
     "text": [
      "4405\n"
     ]
    }
   ],
   "source": [
    "print(len(valid_tail_nums))"
   ]
  },
  {
   "cell_type": "code",
   "execution_count": 11,
   "metadata": {
    "collapsed": true
   },
   "outputs": [],
   "source": [
    "# create a new dataframe with all of the airplane features\n",
    "airplane_data = {'TAIL_NUMBER':valid_tail_nums, 'YEAR':years, 'MODEL':models}\n",
    "airplane_df = pd.DataFrame(data=airplane_data)\n",
    "airplane_df.to_csv(\"airplane_info.csv\")\n",
    "bucket.item('airplane.csv').write_to(airplane_df.to_csv(),'text/csv')"
   ]
  },
  {
   "cell_type": "code",
   "execution_count": 18,
   "metadata": {},
   "outputs": [
    {
     "name": "stdout",
     "output_type": "stream",
     "text": [
      "0\n"
     ]
    }
   ],
   "source": [
    "\n"
   ]
  },
  {
   "cell_type": "code",
   "execution_count": null,
   "metadata": {
    "hiddenCell": true
   },
   "outputs": [],
   "source": []
  },
  {
   "cell_type": "code",
   "execution_count": null,
   "metadata": {
    "collapsed": true
   },
   "outputs": [],
   "source": []
  }
 ],
 "metadata": {
  "kernelspec": {
   "display_name": "Python 3",
   "language": "python",
   "name": "python3"
  },
  "language_info": {
   "codemirror_mode": {
    "name": "ipython",
    "version": 3
   },
   "file_extension": ".py",
   "mimetype": "text/x-python",
   "name": "python",
   "nbconvert_exporter": "python",
   "pygments_lexer": "ipython3",
   "version": "3.6.1"
  }
 },
 "nbformat": 4,
 "nbformat_minor": 2
}
