{
 "cells": [
  {
   "cell_type": "code",
   "execution_count": 1,
   "metadata": {
    "collapsed": true
   },
   "outputs": [],
   "source": [
    "# imports\n",
    "import pandas as pd \n",
    "import numpy as np\n",
    "from sklearn import metrics\n",
    "from sklearn.svm import SVC\n",
    "from sklearn.model_selection import train_test_split\n",
    "from sklearn import tree\n",
    "from sklearn.ensemble import RandomForestClassifier\n",
    "import seaborn as sns\n",
    "from sklearn.metrics import confusion_matrix\n",
    "import matplotlib.pyplot as plt"
   ]
  },
  {
   "cell_type": "code",
   "execution_count": 2,
   "metadata": {},
   "outputs": [
    {
     "name": "stdout",
     "output_type": "stream",
     "text": [
      "(88500, 18)\n",
      "(88500, 1)\n",
      "['DAY', 'MONTH', 'DAY_OF_WEEK', 'AIRLINE', 'ORIGIN_AIRPORT', 'DESTINATION_AIRPORT', 'SCHEDULED_DEPARTURE', 'TAIL_NUMBER', 'TEMPERATURE', 'ICON', 'HUMIDITY', 'SUMMARY', 'WIND_SPEED', 'VISIBILITY', 'PRECIP_INTENSITY', 'PRECIP_PROB', 'MODEL', 'YEAR']\n"
     ]
    },
    {
     "data": {
      "text/html": [
       "<div>\n",
       "<style>\n",
       "    .dataframe thead tr:only-child th {\n",
       "        text-align: right;\n",
       "    }\n",
       "\n",
       "    .dataframe thead th {\n",
       "        text-align: left;\n",
       "    }\n",
       "\n",
       "    .dataframe tbody tr th {\n",
       "        vertical-align: top;\n",
       "    }\n",
       "</style>\n",
       "<table border=\"1\" class=\"dataframe\">\n",
       "  <thead>\n",
       "    <tr style=\"text-align: right;\">\n",
       "      <th></th>\n",
       "      <th>DAY</th>\n",
       "      <th>MONTH</th>\n",
       "      <th>DAY_OF_WEEK</th>\n",
       "      <th>AIRLINE</th>\n",
       "      <th>ORIGIN_AIRPORT</th>\n",
       "      <th>DESTINATION_AIRPORT</th>\n",
       "      <th>SCHEDULED_DEPARTURE</th>\n",
       "      <th>TAIL_NUMBER</th>\n",
       "      <th>TEMPERATURE</th>\n",
       "      <th>ICON</th>\n",
       "      <th>HUMIDITY</th>\n",
       "      <th>SUMMARY</th>\n",
       "      <th>WIND_SPEED</th>\n",
       "      <th>VISIBILITY</th>\n",
       "      <th>PRECIP_INTENSITY</th>\n",
       "      <th>PRECIP_PROB</th>\n",
       "      <th>MODEL</th>\n",
       "      <th>YEAR</th>\n",
       "    </tr>\n",
       "  </thead>\n",
       "  <tbody>\n",
       "    <tr>\n",
       "      <th>135485</th>\n",
       "      <td>28</td>\n",
       "      <td>7</td>\n",
       "      <td>2</td>\n",
       "      <td>AA</td>\n",
       "      <td>ORD</td>\n",
       "      <td>CLT</td>\n",
       "      <td>7</td>\n",
       "      <td>N939UW</td>\n",
       "      <td>3</td>\n",
       "      <td>clear-day</td>\n",
       "      <td>3</td>\n",
       "      <td>Clear</td>\n",
       "      <td>6</td>\n",
       "      <td>5</td>\n",
       "      <td>1</td>\n",
       "      <td>1</td>\n",
       "      <td>757-2B7</td>\n",
       "      <td>1994</td>\n",
       "    </tr>\n",
       "    <tr>\n",
       "      <th>64198</th>\n",
       "      <td>10</td>\n",
       "      <td>7</td>\n",
       "      <td>5</td>\n",
       "      <td>EV</td>\n",
       "      <td>ORD</td>\n",
       "      <td>MEM</td>\n",
       "      <td>12</td>\n",
       "      <td>N12552</td>\n",
       "      <td>2</td>\n",
       "      <td>partly-cloudy-day</td>\n",
       "      <td>2</td>\n",
       "      <td>Partly Cloudy</td>\n",
       "      <td>3</td>\n",
       "      <td>5</td>\n",
       "      <td>1</td>\n",
       "      <td>1</td>\n",
       "      <td>EMB-145LR</td>\n",
       "      <td>2002</td>\n",
       "    </tr>\n",
       "    <tr>\n",
       "      <th>138728</th>\n",
       "      <td>25</td>\n",
       "      <td>9</td>\n",
       "      <td>5</td>\n",
       "      <td>UA</td>\n",
       "      <td>ORD</td>\n",
       "      <td>RSW</td>\n",
       "      <td>7</td>\n",
       "      <td>N26232</td>\n",
       "      <td>2</td>\n",
       "      <td>clear-day</td>\n",
       "      <td>4</td>\n",
       "      <td>Clear</td>\n",
       "      <td>6</td>\n",
       "      <td>4</td>\n",
       "      <td>1</td>\n",
       "      <td>1</td>\n",
       "      <td>737-824</td>\n",
       "      <td>1999</td>\n",
       "    </tr>\n",
       "    <tr>\n",
       "      <th>21287</th>\n",
       "      <td>25</td>\n",
       "      <td>5</td>\n",
       "      <td>1</td>\n",
       "      <td>OO</td>\n",
       "      <td>ORD</td>\n",
       "      <td>BOI</td>\n",
       "      <td>12</td>\n",
       "      <td>N124SY</td>\n",
       "      <td>0</td>\n",
       "      <td>wind</td>\n",
       "      <td>3</td>\n",
       "      <td>Breezy and Overcast</td>\n",
       "      <td>8</td>\n",
       "      <td>4</td>\n",
       "      <td>1</td>\n",
       "      <td>4</td>\n",
       "      <td>ERJ 170-200 LR</td>\n",
       "      <td>2014</td>\n",
       "    </tr>\n",
       "    <tr>\n",
       "      <th>127549</th>\n",
       "      <td>16</td>\n",
       "      <td>3</td>\n",
       "      <td>1</td>\n",
       "      <td>UA</td>\n",
       "      <td>ORD</td>\n",
       "      <td>SMF</td>\n",
       "      <td>19</td>\n",
       "      <td>N36447</td>\n",
       "      <td>3</td>\n",
       "      <td>clear-night</td>\n",
       "      <td>2</td>\n",
       "      <td>Clear</td>\n",
       "      <td>7</td>\n",
       "      <td>5</td>\n",
       "      <td>1</td>\n",
       "      <td>1</td>\n",
       "      <td>737-924ER</td>\n",
       "      <td>2012</td>\n",
       "    </tr>\n",
       "  </tbody>\n",
       "</table>\n",
       "</div>"
      ],
      "text/plain": [
       "        DAY  MONTH  DAY_OF_WEEK AIRLINE ORIGIN_AIRPORT DESTINATION_AIRPORT  \\\n",
       "135485   28      7            2      AA            ORD                 CLT   \n",
       "64198    10      7            5      EV            ORD                 MEM   \n",
       "138728   25      9            5      UA            ORD                 RSW   \n",
       "21287    25      5            1      OO            ORD                 BOI   \n",
       "127549   16      3            1      UA            ORD                 SMF   \n",
       "\n",
       "        SCHEDULED_DEPARTURE TAIL_NUMBER  TEMPERATURE               ICON  \\\n",
       "135485                    7      N939UW            3          clear-day   \n",
       "64198                    12      N12552            2  partly-cloudy-day   \n",
       "138728                    7      N26232            2          clear-day   \n",
       "21287                    12      N124SY            0               wind   \n",
       "127549                   19      N36447            3        clear-night   \n",
       "\n",
       "        HUMIDITY              SUMMARY  WIND_SPEED  VISIBILITY  \\\n",
       "135485         3                Clear           6           5   \n",
       "64198          2        Partly Cloudy           3           5   \n",
       "138728         4                Clear           6           4   \n",
       "21287          3  Breezy and Overcast           8           4   \n",
       "127549         2                Clear           7           5   \n",
       "\n",
       "        PRECIP_INTENSITY  PRECIP_PROB                 MODEL  YEAR  \n",
       "135485                 1            1  757-2B7               1994  \n",
       "64198                  1            1  EMB-145LR             2002  \n",
       "138728                 1            1  737-824               1999  \n",
       "21287                  1            4  ERJ 170-200 LR        2014  \n",
       "127549                 1            1  737-924ER             2012  "
      ]
     },
     "execution_count": 2,
     "metadata": {},
     "output_type": "execute_result"
    }
   ],
   "source": [
    "# read in data\n",
    "model_data = pd.read_csv('data/model_data.csv', index_col = 0)\n",
    "y = model_data[['ARRIVAL_DELAY']]\n",
    "x = model_data.drop('ARRIVAL_DELAY', axis = 1)\n",
    "print x.shape\n",
    "print y.shape\n",
    "print list(x.columns)\n",
    "x.head()"
   ]
  },
  {
   "cell_type": "code",
   "execution_count": 10,
   "metadata": {},
   "outputs": [
    {
     "name": "stdout",
     "output_type": "stream",
     "text": [
      "(88500, 13)\n",
      "Index([u'AIRLINE', u'MONTH', u'DAY_OF_WEEK', u'DESTINATION_AIRPORT',\n",
      "       u'SCHEDULED_DEPARTURE', u'MODEL', u'YEAR', u'TEMPERATURE',\n",
      "       u'WIND_SPEED', u'VISIBILITY', u'PRECIP_PROB', u'PRECIP_INTENSITY',\n",
      "       u'HUMIDITY'],\n",
      "      dtype='object')\n",
      "(88500, 251)\n"
     ]
    }
   ],
   "source": [
    "# select features for SVM\n",
    "svm_features = x[['AIRLINE','MONTH', 'DAY_OF_WEEK', 'DESTINATION_AIRPORT','SCHEDULED_DEPARTURE', 'MODEL', 'YEAR', 'TEMPERATURE', 'WIND_SPEED', 'VISIBILITY', 'PRECIP_PROB', 'PRECIP_INTENSITY', 'HUMIDITY']]\n",
    "print svm_features.shape\n",
    "print svm_features.columns\n",
    "svm_features.head()\n",
    "\n",
    "# encode non-numeric features\n",
    "svm_features = pd.concat([svm_features.drop('AIRLINE', axis = 1), pd.get_dummies(svm_features[['AIRLINE']])], axis = 1)\n",
    "svm_features = pd.concat([svm_features, pd.get_dummies(svm_features['MODEL'])], axis = 1)\n",
    "svm_features = svm_features.drop('MODEL', axis = 1)\n",
    "svm_features = pd.concat([svm_features, pd.get_dummies(svm_features['DESTINATION_AIRPORT'])], axis = 1)\n",
    "svm_features = svm_features.drop('DESTINATION_AIRPORT', axis = 1)\n",
    "svm_features = pd.concat([svm_features, pd.get_dummies(svm_features['YEAR'])], axis = 1)\n",
    "svm_features = svm_features.drop('YEAR', axis = 1)\n",
    "svm_features = svm_features.fillna(0)\n",
    "print svm_features.shape"
   ]
  },
  {
   "cell_type": "code",
   "execution_count": 4,
   "metadata": {},
   "outputs": [
    {
     "data": {
      "text/html": [
       "<div>\n",
       "<style>\n",
       "    .dataframe thead tr:only-child th {\n",
       "        text-align: right;\n",
       "    }\n",
       "\n",
       "    .dataframe thead th {\n",
       "        text-align: left;\n",
       "    }\n",
       "\n",
       "    .dataframe tbody tr th {\n",
       "        vertical-align: top;\n",
       "    }\n",
       "</style>\n",
       "<table border=\"1\" class=\"dataframe\">\n",
       "  <thead>\n",
       "    <tr style=\"text-align: right;\">\n",
       "      <th></th>\n",
       "      <th>MONTH</th>\n",
       "      <th>DAY_OF_WEEK</th>\n",
       "      <th>SCHEDULED_DEPARTURE</th>\n",
       "      <th>TEMPERATURE</th>\n",
       "      <th>WIND_SPEED</th>\n",
       "      <th>VISIBILITY</th>\n",
       "      <th>PRECIP_PROB</th>\n",
       "      <th>PRECIP_INTENSITY</th>\n",
       "      <th>HUMIDITY</th>\n",
       "      <th>AIRLINE_AA</th>\n",
       "      <th>...</th>\n",
       "      <th>2007</th>\n",
       "      <th>2008</th>\n",
       "      <th>2009</th>\n",
       "      <th>2010</th>\n",
       "      <th>2011</th>\n",
       "      <th>2012</th>\n",
       "      <th>2013</th>\n",
       "      <th>2014</th>\n",
       "      <th>2015</th>\n",
       "      <th>2016</th>\n",
       "    </tr>\n",
       "  </thead>\n",
       "  <tbody>\n",
       "    <tr>\n",
       "      <th>135485</th>\n",
       "      <td>7</td>\n",
       "      <td>2</td>\n",
       "      <td>7</td>\n",
       "      <td>3</td>\n",
       "      <td>6</td>\n",
       "      <td>5</td>\n",
       "      <td>1</td>\n",
       "      <td>1</td>\n",
       "      <td>3</td>\n",
       "      <td>1</td>\n",
       "      <td>...</td>\n",
       "      <td>0</td>\n",
       "      <td>0</td>\n",
       "      <td>0</td>\n",
       "      <td>0</td>\n",
       "      <td>0</td>\n",
       "      <td>0</td>\n",
       "      <td>0</td>\n",
       "      <td>0</td>\n",
       "      <td>0</td>\n",
       "      <td>0</td>\n",
       "    </tr>\n",
       "    <tr>\n",
       "      <th>64198</th>\n",
       "      <td>7</td>\n",
       "      <td>5</td>\n",
       "      <td>12</td>\n",
       "      <td>2</td>\n",
       "      <td>3</td>\n",
       "      <td>5</td>\n",
       "      <td>1</td>\n",
       "      <td>1</td>\n",
       "      <td>2</td>\n",
       "      <td>0</td>\n",
       "      <td>...</td>\n",
       "      <td>0</td>\n",
       "      <td>0</td>\n",
       "      <td>0</td>\n",
       "      <td>0</td>\n",
       "      <td>0</td>\n",
       "      <td>0</td>\n",
       "      <td>0</td>\n",
       "      <td>0</td>\n",
       "      <td>0</td>\n",
       "      <td>0</td>\n",
       "    </tr>\n",
       "    <tr>\n",
       "      <th>138728</th>\n",
       "      <td>9</td>\n",
       "      <td>5</td>\n",
       "      <td>7</td>\n",
       "      <td>2</td>\n",
       "      <td>6</td>\n",
       "      <td>4</td>\n",
       "      <td>1</td>\n",
       "      <td>1</td>\n",
       "      <td>4</td>\n",
       "      <td>0</td>\n",
       "      <td>...</td>\n",
       "      <td>0</td>\n",
       "      <td>0</td>\n",
       "      <td>0</td>\n",
       "      <td>0</td>\n",
       "      <td>0</td>\n",
       "      <td>0</td>\n",
       "      <td>0</td>\n",
       "      <td>0</td>\n",
       "      <td>0</td>\n",
       "      <td>0</td>\n",
       "    </tr>\n",
       "    <tr>\n",
       "      <th>21287</th>\n",
       "      <td>5</td>\n",
       "      <td>1</td>\n",
       "      <td>12</td>\n",
       "      <td>0</td>\n",
       "      <td>8</td>\n",
       "      <td>4</td>\n",
       "      <td>4</td>\n",
       "      <td>1</td>\n",
       "      <td>3</td>\n",
       "      <td>0</td>\n",
       "      <td>...</td>\n",
       "      <td>0</td>\n",
       "      <td>0</td>\n",
       "      <td>0</td>\n",
       "      <td>0</td>\n",
       "      <td>0</td>\n",
       "      <td>0</td>\n",
       "      <td>0</td>\n",
       "      <td>1</td>\n",
       "      <td>0</td>\n",
       "      <td>0</td>\n",
       "    </tr>\n",
       "    <tr>\n",
       "      <th>127549</th>\n",
       "      <td>3</td>\n",
       "      <td>1</td>\n",
       "      <td>19</td>\n",
       "      <td>3</td>\n",
       "      <td>7</td>\n",
       "      <td>5</td>\n",
       "      <td>1</td>\n",
       "      <td>1</td>\n",
       "      <td>2</td>\n",
       "      <td>0</td>\n",
       "      <td>...</td>\n",
       "      <td>0</td>\n",
       "      <td>0</td>\n",
       "      <td>0</td>\n",
       "      <td>0</td>\n",
       "      <td>0</td>\n",
       "      <td>1</td>\n",
       "      <td>0</td>\n",
       "      <td>0</td>\n",
       "      <td>0</td>\n",
       "      <td>0</td>\n",
       "    </tr>\n",
       "  </tbody>\n",
       "</table>\n",
       "<p>5 rows × 251 columns</p>\n",
       "</div>"
      ],
      "text/plain": [
       "        MONTH  DAY_OF_WEEK  SCHEDULED_DEPARTURE  TEMPERATURE  WIND_SPEED  \\\n",
       "135485      7            2                    7            3           6   \n",
       "64198       7            5                   12            2           3   \n",
       "138728      9            5                    7            2           6   \n",
       "21287       5            1                   12            0           8   \n",
       "127549      3            1                   19            3           7   \n",
       "\n",
       "        VISIBILITY  PRECIP_PROB  PRECIP_INTENSITY  HUMIDITY  AIRLINE_AA  ...   \\\n",
       "135485           5            1                 1         3           1  ...    \n",
       "64198            5            1                 1         2           0  ...    \n",
       "138728           4            1                 1         4           0  ...    \n",
       "21287            4            4                 1         3           0  ...    \n",
       "127549           5            1                 1         2           0  ...    \n",
       "\n",
       "        2007  2008  2009  2010  2011  2012  2013  2014  2015  2016  \n",
       "135485     0     0     0     0     0     0     0     0     0     0  \n",
       "64198      0     0     0     0     0     0     0     0     0     0  \n",
       "138728     0     0     0     0     0     0     0     0     0     0  \n",
       "21287      0     0     0     0     0     0     0     1     0     0  \n",
       "127549     0     0     0     0     0     1     0     0     0     0  \n",
       "\n",
       "[5 rows x 251 columns]"
      ]
     },
     "execution_count": 4,
     "metadata": {},
     "output_type": "execute_result"
    }
   ],
   "source": [
    "svm_features.head()"
   ]
  },
  {
   "cell_type": "markdown",
   "metadata": {},
   "source": [
    "svm_features.head()"
   ]
  },
  {
   "cell_type": "code",
   "execution_count": 43,
   "metadata": {},
   "outputs": [
    {
     "name": "stdout",
     "output_type": "stream",
     "text": [
      "(70800, 1)\n",
      "(70800, 251)\n"
     ]
    }
   ],
   "source": [
    "train_x, test_x, train_y, test_y = train_test_split(svm_features, y, train_size=0.8)\n",
    "print train_y.shape\n",
    "print train_x.shape"
   ]
  },
  {
   "cell_type": "code",
   "execution_count": 5,
   "metadata": {},
   "outputs": [
    {
     "name": "stdout",
     "output_type": "stream",
     "text": [
      "svm train acc: 0.454548022599\n",
      "svm test acc: 0.447570621469\n",
      "svm precision: 0.446571701621\n",
      "svm recall: 0.447570621469\n"
     ]
    }
   ],
   "source": [
    "#svm with sampled data\n",
    "svm_classifier = SVC()\n",
    "svm_classifier.fit(train_x, np.ravel(train_y, order = 'C'))\n",
    "svm_train_acc = metrics.accuracy_score(train_y, svm_classifier.predict(train_x))\n",
    "svm_test_acc = metrics.accuracy_score(test_y, svm_classifier.predict(test_x))\n",
    "\n",
    "# results\n",
    "print ('svm train acc: ' + str(svm_train_acc))\n",
    "print ('svm test acc: ' + str(svm_test_acc))\n",
    "print ('svm precision: ' + str(metrics.precision_score(test_y, svm_classifier.predict(test_x), average = 'weighted')))\n",
    "print ('svm recall: ' + str(metrics.recall_score(test_y, svm_classifier.predict(test_x), average = 'weighted')))"
   ]
  },
  {
   "cell_type": "code",
   "execution_count": 30,
   "metadata": {},
   "outputs": [
    {
     "name": "stdout",
     "output_type": "stream",
     "text": [
      "decision tree train acc: 0.999223163842\n",
      "decision tree test acc: 0.427740112994\n",
      "decision tree precision: 0.427370468576\n",
      "decision tree recall: 0.427740112994\n"
     ]
    }
   ],
   "source": [
    "# decision tree with sampled data\n",
    "dtc = tree.DecisionTreeClassifier()\n",
    "dtc.fit(train_x, train_y)\n",
    "dtc_train_acc = metrics.accuracy_score(train_y, dtc.predict(train_x))\n",
    "dtc_test_acc = metrics.accuracy_score(test_y, dtc.predict(test_x))\n",
    "\n",
    "# results\n",
    "print ('decision tree train acc: ' + str(dtc_train_acc))\n",
    "print ('decision tree test acc: ' + str(dtc_test_acc))\n",
    "print ('decision tree precision: ' + str(metrics.precision_score(test_y, dtc.predict(test_x), average = 'weighted')))\n",
    "print ('decision tree recall: ' + str(metrics.recall_score(test_y, dtc.predict(test_x), average = 'weighted')))"
   ]
  },
  {
   "cell_type": "code",
   "execution_count": 44,
   "metadata": {},
   "outputs": [
    {
     "name": "stderr",
     "output_type": "stream",
     "text": [
      "/Users/nnbenavides/anaconda/lib/python2.7/site-packages/ipykernel_launcher.py:3: DataConversionWarning: A column-vector y was passed when a 1d array was expected. Please change the shape of y to (n_samples,), for example using ravel().\n",
      "  This is separate from the ipykernel package so we can avoid doing imports until\n"
     ]
    },
    {
     "name": "stdout",
     "output_type": "stream",
     "text": [
      "random forest train acc: 0.983629943503\n",
      "random forest test acc: 0.427005649718\n",
      "random forest precision: 0.428613243343\n",
      "random forest recall: 0.427005649718\n"
     ]
    }
   ],
   "source": [
    "# random forest w/ sampled data\n",
    "rfc = RandomForestClassifier()\n",
    "rfc.fit(train_x, train_y)\n",
    "rfc_train_acc = metrics.accuracy_score(train_y, rfc.predict(train_x))\n",
    "rfc_test_acc = metrics.accuracy_score(test_y, rfc.predict(test_x))\n",
    "pred_y = rfc.predict(test_x)\n",
    "\n",
    "# results\n",
    "print ('random forest train acc: ' + str(rfc_train_acc))\n",
    "print ('random forest test acc: ' + str(rfc_test_acc))\n",
    "print ('random forest precision: ' + str(metrics.precision_score(test_y, rfc.predict(test_x), average = 'weighted')))\n",
    "print ('random forest recall: ' + str(metrics.recall_score(test_y, rfc.predict(test_x), average = 'weighted')))"
   ]
  },
  {
   "cell_type": "code",
   "execution_count": 23,
   "metadata": {
    "collapsed": true
   },
   "outputs": [],
   "source": [
    "cm = confusion_matrix(test_y, pred_y)\n",
    "sns.set(font_scale=1.5)\n",
    "sns.set_style(style='white')\n",
    "cmap = sns.cubehelix_palette(as_cmap=True)\n",
    "ax = sns.heatmap(cm, cmap=cmap)\n",
    "ax.set(xlabel='Predicted Delay', ylabel='Actual Delay')\n",
    "plt.xticks(rotation=25)\n",
    "plt.tight_layout()\n",
    "plt.savefig('CM.png')"
   ]
  },
  {
   "cell_type": "code",
   "execution_count": 45,
   "metadata": {},
   "outputs": [
    {
     "name": "stdout",
     "output_type": "stream",
     "text": [
      "(139570, 19)\n",
      "(135428, 19)\n",
      "(135428, 19)\n",
      "(100000, 19)\n"
     ]
    }
   ],
   "source": [
    "# models with unsampled data\n",
    "unsampled_data = pd.read_csv(\"data/weather_features_buckets.csv\", index_col = 0)\n",
    "print unsampled_data.shape\n",
    "unsampled_data = unsampled_data[unsampled_data.apply(lambda x: len(x['MODEL']) <= 25 and x['YEAR'] != 'None', axis=1)]\n",
    "print unsampled_data.shape\n",
    "unsampled_data = unsampled_data.dropna()\n",
    "print unsampled_data.shape\n",
    "unsampled_data = unsampled_data.sample(100000)\n",
    "print unsampled_data.shape"
   ]
  },
  {
   "cell_type": "code",
   "execution_count": 46,
   "metadata": {
    "collapsed": true
   },
   "outputs": [],
   "source": [
    "y = unsampled_data[['ARRIVAL_DELAY']]\n",
    "x = unsampled_data.drop('ARRIVAL_DELAY', axis = 1)"
   ]
  },
  {
   "cell_type": "code",
   "execution_count": 47,
   "metadata": {},
   "outputs": [
    {
     "name": "stdout",
     "output_type": "stream",
     "text": [
      "(100000, 13)\n",
      "(100000, 251)\n"
     ]
    }
   ],
   "source": [
    "# select features for SVM\n",
    "features = x[['AIRLINE','MONTH', 'DAY_OF_WEEK', 'DESTINATION_AIRPORT','SCHEDULED_DEPARTURE', 'MODEL', 'YEAR', 'TEMPERATURE', 'WIND_SPEED', 'VISIBILITY', 'PRECIP_PROB', 'PRECIP_INTENSITY', 'HUMIDITY']]\n",
    "print features.shape\n",
    "\n",
    "# encode non-numeric features\n",
    "features = pd.concat([features.drop('AIRLINE', axis = 1), pd.get_dummies(features[['AIRLINE']])], axis = 1)\n",
    "features = pd.concat([features, pd.get_dummies(features['MODEL'])], axis = 1)\n",
    "features = features.drop('MODEL', axis = 1)\n",
    "features = pd.concat([features, pd.get_dummies(features['DESTINATION_AIRPORT'])], axis = 1)\n",
    "features = features.drop('DESTINATION_AIRPORT', axis = 1)\n",
    "features = pd.concat([features, pd.get_dummies(features['YEAR'])], axis = 1)\n",
    "features = features.drop('YEAR', axis = 1)\n",
    "features = features.fillna(0)\n",
    "print features.shape"
   ]
  },
  {
   "cell_type": "code",
   "execution_count": 57,
   "metadata": {},
   "outputs": [
    {
     "name": "stdout",
     "output_type": "stream",
     "text": [
      "(80000, 1)\n",
      "(80000, 251)\n"
     ]
    }
   ],
   "source": [
    "train_x, test_x, train_y, test_y = train_test_split(features, y, train_size=0.8)\n",
    "print train_y.shape\n",
    "print train_x.shape"
   ]
  },
  {
   "cell_type": "code",
   "execution_count": 13,
   "metadata": {},
   "outputs": [
    {
     "name": "stdout",
     "output_type": "stream",
     "text": [
      "svm train acc: 0.560725\n",
      "svm test acc: 0.55835\n"
     ]
    },
    {
     "name": "stderr",
     "output_type": "stream",
     "text": [
      "/Users/nnbenavides/anaconda/lib/python2.7/site-packages/sklearn/metrics/classification.py:1113: UndefinedMetricWarning: Precision is ill-defined and being set to 0.0 in labels with no predicted samples.\n",
      "  'precision', 'predicted', average, warn_for)\n"
     ]
    },
    {
     "name": "stdout",
     "output_type": "stream",
     "text": [
      "svm precision: 0.442413817088\n",
      "svm recall: 0.55835\n"
     ]
    }
   ],
   "source": [
    "#svm with unsampled data\n",
    "svm_classifier = SVC()\n",
    "svm_classifier.fit(train_x, np.ravel(train_y, order = 'C'))\n",
    "svm_train_acc = metrics.accuracy_score(train_y, svm_classifier.predict(train_x))\n",
    "svm_test_acc = metrics.accuracy_score(test_y, svm_classifier.predict(test_x))\n",
    "\n",
    "# results\n",
    "print ('svm train acc: ' + str(svm_train_acc))\n",
    "print ('svm test acc: ' + str(svm_test_acc))\n",
    "print ('svm precision: ' + str(metrics.precision_score(test_y, svm_classifier.predict(test_x), average = 'weighted')))\n",
    "print ('svm recall: ' + str(metrics.recall_score(test_y, svm_classifier.predict(test_x), average = 'weighted')))"
   ]
  },
  {
   "cell_type": "code",
   "execution_count": 51,
   "metadata": {},
   "outputs": [
    {
     "name": "stdout",
     "output_type": "stream",
     "text": [
      "decision tree train acc: 0.9992875\n",
      "decision tree test acc: 0.49445\n",
      "decision tree precision: 0.489647037923\n",
      "decision tree recall: 0.49445\n"
     ]
    }
   ],
   "source": [
    "# decision tree with unsampled data\n",
    "dtc = tree.DecisionTreeClassifier()\n",
    "dtc.fit(train_x, train_y)\n",
    "dtc_train_acc = metrics.accuracy_score(train_y, dtc.predict(train_x))\n",
    "dtc_test_acc = metrics.accuracy_score(test_y, dtc.predict(test_x))\n",
    "\n",
    "# results\n",
    "print ('decision tree train acc: ' + str(dtc_train_acc))\n",
    "print ('decision tree test acc: ' + str(dtc_test_acc))\n",
    "print ('decision tree precision: ' + str(metrics.precision_score(test_y, dtc.predict(test_x), average = 'weighted')))\n",
    "print ('decision tree recall: ' + str(metrics.recall_score(test_y, dtc.predict(test_x), average = 'weighted')))"
   ]
  },
  {
   "cell_type": "code",
   "execution_count": 58,
   "metadata": {},
   "outputs": [
    {
     "name": "stderr",
     "output_type": "stream",
     "text": [
      "/Users/nnbenavides/anaconda/lib/python2.7/site-packages/ipykernel_launcher.py:3: DataConversionWarning: A column-vector y was passed when a 1d array was expected. Please change the shape of y to (n_samples,), for example using ravel().\n",
      "  This is separate from the ipykernel package so we can avoid doing imports until\n"
     ]
    },
    {
     "name": "stdout",
     "output_type": "stream",
     "text": [
      "random forest train acc: 0.9774\n",
      "random forest test acc: 0.5502\n",
      "random forest precision: 0.503864695405\n",
      "random forest recall: 0.5502\n"
     ]
    }
   ],
   "source": [
    "# random forest w/ unsampled data\n",
    "rfc = RandomForestClassifier()\n",
    "rfc.fit(train_x, train_y)\n",
    "rfc_train_acc = metrics.accuracy_score(train_y, rfc.predict(train_x))\n",
    "rfc_test_acc = metrics.accuracy_score(test_y, rfc.predict(test_x))\n",
    "\n",
    "# results\n",
    "print ('random forest train acc: ' + str(rfc_train_acc))\n",
    "print ('random forest test acc: ' + str(rfc_test_acc))\n",
    "print ('random forest precision: ' + str(metrics.precision_score(test_y, rfc.predict(test_x), average = 'weighted')))\n",
    "print ('random forest recall: ' + str(metrics.recall_score(test_y, rfc.predict(test_x), average = 'weighted')))"
   ]
  },
  {
   "cell_type": "code",
   "execution_count": null,
   "metadata": {
    "collapsed": true
   },
   "outputs": [],
   "source": []
  }
 ],
 "metadata": {
  "kernelspec": {
   "display_name": "Python 2",
   "language": "python",
   "name": "python2"
  },
  "language_info": {
   "codemirror_mode": {
    "name": "ipython",
    "version": 2
   },
   "file_extension": ".py",
   "mimetype": "text/x-python",
   "name": "python",
   "nbconvert_exporter": "python",
   "pygments_lexer": "ipython2",
   "version": "2.7.13"
  }
 },
 "nbformat": 4,
 "nbformat_minor": 2
}
