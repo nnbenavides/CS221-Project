{
 "cells": [
  {
   "cell_type": "code",
   "execution_count": 1,
   "metadata": {},
   "outputs": [
    {
     "name": "stderr",
     "output_type": "stream",
     "text": [
      "/Users/nnbenavides/.local/lib/python2.7/site-packages/IPython/core/interactiveshell.py:2718: DtypeWarning: Columns (7,8) have mixed types. Specify dtype option on import or set low_memory=False.\n",
      "  interactivity=interactivity, compiler=compiler, result=result)\n"
     ]
    },
    {
     "name": "stdout",
     "output_type": "stream",
     "text": [
      "(5714008, 31)\n"
     ]
    }
   ],
   "source": [
    "import pandas as pd \n",
    "import numpy as np\n",
    "\n",
    "full_dataset = pd.read_csv(\"data/flights.csv\")\n",
    "full_dataset = full_dataset[np.isfinite(full_dataset['ARRIVAL_DELAY'])]\n",
    "\n",
    "print (full_dataset.shape)"
   ]
  },
  {
   "cell_type": "code",
   "execution_count": 2,
   "metadata": {},
   "outputs": [
    {
     "name": "stdout",
     "output_type": "stream",
     "text": [
      "(276554, 31)\n"
     ]
    }
   ],
   "source": [
    "#full_dataset.head()\n",
    "sampled_data = full_dataset[full_dataset['ORIGIN_AIRPORT'] == 'ORD']\n",
    "sampled_data.head()\n",
    "print (sampled_data.shape)"
   ]
  },
  {
   "cell_type": "code",
   "execution_count": 6,
   "metadata": {},
   "outputs": [
    {
     "name": "stdout",
     "output_type": "stream",
     "text": [
      "(100000, 31)\n"
     ]
    },
    {
     "data": {
      "text/html": [
       "<div>\n",
       "<style>\n",
       "    .dataframe thead tr:only-child th {\n",
       "        text-align: right;\n",
       "    }\n",
       "\n",
       "    .dataframe thead th {\n",
       "        text-align: left;\n",
       "    }\n",
       "\n",
       "    .dataframe tbody tr th {\n",
       "        vertical-align: top;\n",
       "    }\n",
       "</style>\n",
       "<table border=\"1\" class=\"dataframe\">\n",
       "  <thead>\n",
       "    <tr style=\"text-align: right;\">\n",
       "      <th></th>\n",
       "      <th>YEAR</th>\n",
       "      <th>MONTH</th>\n",
       "      <th>DAY</th>\n",
       "      <th>DAY_OF_WEEK</th>\n",
       "      <th>AIRLINE</th>\n",
       "      <th>FLIGHT_NUMBER</th>\n",
       "      <th>TAIL_NUMBER</th>\n",
       "      <th>ORIGIN_AIRPORT</th>\n",
       "      <th>DESTINATION_AIRPORT</th>\n",
       "      <th>SCHEDULED_DEPARTURE</th>\n",
       "      <th>...</th>\n",
       "      <th>ARRIVAL_TIME</th>\n",
       "      <th>ARRIVAL_DELAY</th>\n",
       "      <th>DIVERTED</th>\n",
       "      <th>CANCELLED</th>\n",
       "      <th>CANCELLATION_REASON</th>\n",
       "      <th>AIR_SYSTEM_DELAY</th>\n",
       "      <th>SECURITY_DELAY</th>\n",
       "      <th>AIRLINE_DELAY</th>\n",
       "      <th>LATE_AIRCRAFT_DELAY</th>\n",
       "      <th>WEATHER_DELAY</th>\n",
       "    </tr>\n",
       "  </thead>\n",
       "  <tbody>\n",
       "    <tr>\n",
       "      <th>0</th>\n",
       "      <td>2015</td>\n",
       "      <td>6</td>\n",
       "      <td>30</td>\n",
       "      <td>2</td>\n",
       "      <td>EV</td>\n",
       "      <td>3936</td>\n",
       "      <td>N14198</td>\n",
       "      <td>ORD</td>\n",
       "      <td>FAR</td>\n",
       "      <td>1540</td>\n",
       "      <td>...</td>\n",
       "      <td>1721.0</td>\n",
       "      <td>-19.0</td>\n",
       "      <td>0</td>\n",
       "      <td>0</td>\n",
       "      <td>NaN</td>\n",
       "      <td>NaN</td>\n",
       "      <td>NaN</td>\n",
       "      <td>NaN</td>\n",
       "      <td>NaN</td>\n",
       "      <td>NaN</td>\n",
       "    </tr>\n",
       "    <tr>\n",
       "      <th>1</th>\n",
       "      <td>2015</td>\n",
       "      <td>2</td>\n",
       "      <td>22</td>\n",
       "      <td>7</td>\n",
       "      <td>AA</td>\n",
       "      <td>2284</td>\n",
       "      <td>N3BAAA</td>\n",
       "      <td>ORD</td>\n",
       "      <td>DCA</td>\n",
       "      <td>2045</td>\n",
       "      <td>...</td>\n",
       "      <td>2330.0</td>\n",
       "      <td>2.0</td>\n",
       "      <td>0</td>\n",
       "      <td>0</td>\n",
       "      <td>NaN</td>\n",
       "      <td>NaN</td>\n",
       "      <td>NaN</td>\n",
       "      <td>NaN</td>\n",
       "      <td>NaN</td>\n",
       "      <td>NaN</td>\n",
       "    </tr>\n",
       "    <tr>\n",
       "      <th>2</th>\n",
       "      <td>2015</td>\n",
       "      <td>12</td>\n",
       "      <td>4</td>\n",
       "      <td>5</td>\n",
       "      <td>EV</td>\n",
       "      <td>6034</td>\n",
       "      <td>N12900</td>\n",
       "      <td>ORD</td>\n",
       "      <td>ELM</td>\n",
       "      <td>2100</td>\n",
       "      <td>...</td>\n",
       "      <td>2340.0</td>\n",
       "      <td>0.0</td>\n",
       "      <td>0</td>\n",
       "      <td>0</td>\n",
       "      <td>NaN</td>\n",
       "      <td>NaN</td>\n",
       "      <td>NaN</td>\n",
       "      <td>NaN</td>\n",
       "      <td>NaN</td>\n",
       "      <td>NaN</td>\n",
       "    </tr>\n",
       "    <tr>\n",
       "      <th>3</th>\n",
       "      <td>2015</td>\n",
       "      <td>9</td>\n",
       "      <td>13</td>\n",
       "      <td>7</td>\n",
       "      <td>OO</td>\n",
       "      <td>6213</td>\n",
       "      <td>N971SW</td>\n",
       "      <td>ORD</td>\n",
       "      <td>CMH</td>\n",
       "      <td>1105</td>\n",
       "      <td>...</td>\n",
       "      <td>1314.0</td>\n",
       "      <td>-6.0</td>\n",
       "      <td>0</td>\n",
       "      <td>0</td>\n",
       "      <td>NaN</td>\n",
       "      <td>NaN</td>\n",
       "      <td>NaN</td>\n",
       "      <td>NaN</td>\n",
       "      <td>NaN</td>\n",
       "      <td>NaN</td>\n",
       "    </tr>\n",
       "    <tr>\n",
       "      <th>4</th>\n",
       "      <td>2015</td>\n",
       "      <td>9</td>\n",
       "      <td>3</td>\n",
       "      <td>4</td>\n",
       "      <td>EV</td>\n",
       "      <td>4758</td>\n",
       "      <td>N11187</td>\n",
       "      <td>ORD</td>\n",
       "      <td>MEM</td>\n",
       "      <td>930</td>\n",
       "      <td>...</td>\n",
       "      <td>1109.0</td>\n",
       "      <td>-12.0</td>\n",
       "      <td>0</td>\n",
       "      <td>0</td>\n",
       "      <td>NaN</td>\n",
       "      <td>NaN</td>\n",
       "      <td>NaN</td>\n",
       "      <td>NaN</td>\n",
       "      <td>NaN</td>\n",
       "      <td>NaN</td>\n",
       "    </tr>\n",
       "  </tbody>\n",
       "</table>\n",
       "<p>5 rows × 31 columns</p>\n",
       "</div>"
      ],
      "text/plain": [
       "   YEAR  MONTH  DAY  DAY_OF_WEEK AIRLINE  FLIGHT_NUMBER TAIL_NUMBER  \\\n",
       "0  2015      6   30            2      EV           3936      N14198   \n",
       "1  2015      2   22            7      AA           2284      N3BAAA   \n",
       "2  2015     12    4            5      EV           6034      N12900   \n",
       "3  2015      9   13            7      OO           6213      N971SW   \n",
       "4  2015      9    3            4      EV           4758      N11187   \n",
       "\n",
       "  ORIGIN_AIRPORT DESTINATION_AIRPORT  SCHEDULED_DEPARTURE      ...        \\\n",
       "0            ORD                 FAR                 1540      ...         \n",
       "1            ORD                 DCA                 2045      ...         \n",
       "2            ORD                 ELM                 2100      ...         \n",
       "3            ORD                 CMH                 1105      ...         \n",
       "4            ORD                 MEM                  930      ...         \n",
       "\n",
       "   ARRIVAL_TIME  ARRIVAL_DELAY  DIVERTED  CANCELLED  CANCELLATION_REASON  \\\n",
       "0        1721.0          -19.0         0          0                  NaN   \n",
       "1        2330.0            2.0         0          0                  NaN   \n",
       "2        2340.0            0.0         0          0                  NaN   \n",
       "3        1314.0           -6.0         0          0                  NaN   \n",
       "4        1109.0          -12.0         0          0                  NaN   \n",
       "\n",
       "   AIR_SYSTEM_DELAY  SECURITY_DELAY  AIRLINE_DELAY  LATE_AIRCRAFT_DELAY  \\\n",
       "0               NaN             NaN            NaN                  NaN   \n",
       "1               NaN             NaN            NaN                  NaN   \n",
       "2               NaN             NaN            NaN                  NaN   \n",
       "3               NaN             NaN            NaN                  NaN   \n",
       "4               NaN             NaN            NaN                  NaN   \n",
       "\n",
       "   WEATHER_DELAY  \n",
       "0            NaN  \n",
       "1            NaN  \n",
       "2            NaN  \n",
       "3            NaN  \n",
       "4            NaN  \n",
       "\n",
       "[5 rows x 31 columns]"
      ]
     },
     "execution_count": 6,
     "metadata": {},
     "output_type": "execute_result"
    }
   ],
   "source": [
    "sample_size = 100000\n",
    "sampled_data = sampled_data.sample(sample_size)\n",
    "print sampled_data.shape\n",
    "sampled_data = sampled_data.reset_index(drop = True)\n",
    "sampled_data.head()"
   ]
  },
  {
   "cell_type": "code",
   "execution_count": 7,
   "metadata": {
    "collapsed": true
   },
   "outputs": [],
   "source": [
    "from sklearn.linear_model import LogisticRegression\n",
    "from sklearn.model_selection import train_test_split\n",
    "from sklearn.preprocessing import LabelEncoder\n",
    "from sklearn import metrics\n",
    "from sklearn.metrics import confusion_matrix"
   ]
  },
  {
   "cell_type": "code",
   "execution_count": 8,
   "metadata": {
    "collapsed": true
   },
   "outputs": [],
   "source": [
    "baseline_features = sampled_data[['AIRLINE','MONTH', 'DAY_OF_WEEK','ORIGIN_AIRPORT', 'DESTINATION_AIRPORT','SCHEDULED_DEPARTURE']]"
   ]
  },
  {
   "cell_type": "code",
   "execution_count": 9,
   "metadata": {
    "collapsed": true
   },
   "outputs": [],
   "source": [
    "baseline_yx = sampled_data[['ARRIVAL_DELAY', 'AIRLINE','MONTH','DAY_OF_WEEK','ORIGIN_AIRPORT', 'DESTINATION_AIRPORT','SCHEDULED_DEPARTURE']]"
   ]
  },
  {
   "cell_type": "code",
   "execution_count": null,
   "metadata": {},
   "outputs": [
    {
     "name": "stdout",
     "output_type": "stream",
     "text": [
      "starting update\n"
     ]
    }
   ],
   "source": [
    "print 'starting update'\n",
    "for i,row in baseline_yx.iterrows():\n",
    "    if (i + 1) % (sample_size/10) == 0:\n",
    "        print 'updated ' + str(i + 1)\n",
    "    delay = baseline_yx.iat[i, 0]\n",
    "    if delay < 0:\n",
    "        baseline_yx.iat[i, 0] = 0\n",
    "    elif delay <= 15:\n",
    "        baseline_yx.iat[i, 0] = 0\n",
    "    else:\n",
    "        baseline_yx.iat[i, 0] = 1\n",
    "    baseline_yx.iat[i, 6] = int(baseline_yx.iat[i,6]) / 100"
   ]
  },
  {
   "cell_type": "code",
   "execution_count": null,
   "metadata": {
    "collapsed": true
   },
   "outputs": [],
   "source": [
    "encoded_target = baseline_yx[['ARRIVAL_DELAY']]"
   ]
  },
  {
   "cell_type": "code",
   "execution_count": null,
   "metadata": {
    "collapsed": true
   },
   "outputs": [],
   "source": [
    "encoded_baseline_features = pd.concat([baseline_features.drop('AIRLINE', axis=1), pd.get_dummies(baseline_features['AIRLINE'])], axis=1)\n",
    "encoded_baseline_features = pd.concat([encoded_baseline_features, pd.get_dummies(baseline_features['ORIGIN_AIRPORT'])], axis=1)\n",
    "encoded_baseline_features = pd.concat([encoded_baseline_features, pd.get_dummies(baseline_features['DESTINATION_AIRPORT'])], axis=1)\n",
    "encoded_baseline_features = encoded_baseline_features.drop('ORIGIN_AIRPORT', axis = 1)\n",
    "encoded_baseline_features= encoded_baseline_features.drop('DESTINATION_AIRPORT', axis = 1)\n"
   ]
  },
  {
   "cell_type": "code",
   "execution_count": null,
   "metadata": {
    "collapsed": true
   },
   "outputs": [],
   "source": [
    "oracle_yx = sampled_data[['ARRIVAL_DELAY','DAY', 'MONTH', 'AIRLINE','ORIGIN_AIRPORT', 'DESTINATION_AIRPORT','SCHEDULED_DEPARTURE', 'DEPARTURE_DELAY']]"
   ]
  },
  {
   "cell_type": "code",
   "execution_count": null,
   "metadata": {
    "collapsed": true
   },
   "outputs": [],
   "source": [
    "encoded_oracle_features = pd.concat([encoded_baseline_features, sampled_data['DEPARTURE_DELAY']], axis=1)\n",
    "train_xo, test_xo, train_yo, test_yo = train_test_split(encoded_oracle_features, encoded_target, train_size=0.8)\n",
    "lr_oracle = LogisticRegression()\n",
    "lr_oracle.fit(train_xo, train_yo)\n",
    "lr_train_acc = metrics.accuracy_score(train_yo, lr_oracle.predict(train_xo))\n",
    "lr_test_acc = metrics.accuracy_score(test_yo, lr_oracle.predict(test_xo))\n",
    "print ('oracle train acc: ' + str(lr_train_acc))\n",
    "print ('oracle test acc: ' + str(lr_test_acc))\n",
    "\n",
    "pred_y_testo = lr_oracle.predict(test_xo)\n",
    "pred_y_testo = [1 if pred_y_testo[i] > 1 else 0 for i in range(len(pred_y_testo))]\n",
    "test_y_listo = test_yo.as_matrix().tolist()\n",
    "test_y_binarizedo = [1 if test_y_listo[i][0] > 1 else 0 for i in range(len(test_y_listo))]\n",
    "print ('oracle precision: ' + str(metrics.precision_score(test_y_binarizedo, pred_y_testo)))\n",
    "print ('oracle recall: ' + str(metrics.recall_score(test_y_binarizedo, pred_y_testo)))"
   ]
  },
  {
   "cell_type": "code",
   "execution_count": null,
   "metadata": {
    "collapsed": true
   },
   "outputs": [],
   "source": [
    "train_xb = train_xo.drop('DEPARTURE_DELAY', axis=1)\n",
    "train_yb = train_yo\n",
    "test_xb = test_xo.drop('DEPARTURE_DELAY', axis = 1)\n",
    "test_yb = test_yo"
   ]
  },
  {
   "cell_type": "code",
   "execution_count": null,
   "metadata": {
    "collapsed": true
   },
   "outputs": [],
   "source": [
    "lr = LogisticRegression()\n",
    "lr.fit(train_xb, train_yb)\n",
    "lr_train_acc = metrics.accuracy_score(train_yb, lr.predict(train_xb))\n",
    "lr_test_acc = metrics.accuracy_score(test_yb, lr.predict(test_xb))\n",
    "pred_y_test = list(lr.predict(test_xb))\n",
    "pred_y_test = [1 if pred_y_test[i] > 1 else 0 for i in range(len(pred_y_test))]\n",
    "test_y_list = test_y.as_matrix().tolist()\n",
    "test_y_binarized = [1 if test_y_list[i][0] > 1 else 0 for i in range(len(test_y_list))]\n",
    "print ('baseline train acc: ' + str(lr_train_acc))\n",
    "print ('baseline test acc: ' + str(lr_test_acc))\n",
    "print ('baseline precision: ' + str(metrics.precision_score(test_y_binarized, pred_y_test, average = 'binary')))"
   ]
  },
  {
   "cell_type": "code",
   "execution_count": null,
   "metadata": {
    "collapsed": true
   },
   "outputs": [],
   "source": [
    "y_true = test_y\n",
    "y_pred = lr.predict(test_x)\n",
    "confusion = confusion_matrix(y_true, y_pred)\n",
    "print confusion"
   ]
  }
 ],
 "metadata": {
  "kernelspec": {
   "display_name": "Python 2",
   "language": "python",
   "name": "python2"
  },
  "language_info": {
   "codemirror_mode": {
    "name": "ipython",
    "version": 2
   },
   "file_extension": ".py",
   "mimetype": "text/x-python",
   "name": "python",
   "nbconvert_exporter": "python",
   "pygments_lexer": "ipython2",
   "version": "2.7.13"
  }
 },
 "nbformat": 4,
 "nbformat_minor": 2
}
